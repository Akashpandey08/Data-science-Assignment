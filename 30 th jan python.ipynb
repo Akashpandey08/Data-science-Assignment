{
 "cells": [
  {
   "cell_type": "code",
   "execution_count": 2,
   "id": "8ce2f79c-75c8-41a6-ac19-3d92abc7435e",
   "metadata": {},
   "outputs": [
    {
     "name": "stdin",
     "output_type": "stream",
     "text": [
      "Enter your percentage:  85\n"
     ]
    },
    {
     "name": "stdout",
     "output_type": "stream",
     "text": [
      "Your grade is: B\n"
     ]
    }
   ],
   "source": [
    "              ##question 1\n",
    "\n",
    "def calculate_grade(percentage):\n",
    "    if percentage > 90:\n",
    "        return \"A\"\n",
    "    elif percentage >80:\n",
    "        return \"B\"\n",
    "    elif percentage >= 60:\n",
    "        return \"C\"\n",
    "    else:\n",
    "        return \"D\"\n",
    "\n",
    "percentage = float(input(\"Enter your percentage: \"))\n",
    "print(\"Your grade is:\", calculate_grade(percentage))"
   ]
  },
  {
   "cell_type": "code",
   "execution_count": null,
   "id": "f6a56412-758e-4d9d-acd5-85a52004e2ca",
   "metadata": {},
   "outputs": [],
   "source": []
  },
  {
   "cell_type": "code",
   "execution_count": null,
   "id": "1ecbb552-4d5a-4405-ba1d-609a257a0cf1",
   "metadata": {},
   "outputs": [],
   "source": [
    "                       #Question 2"
   ]
  },
  {
   "cell_type": "code",
   "execution_count": 3,
   "id": "9f8849ec-1206-42c8-a9da-dacbbd46a9ca",
   "metadata": {},
   "outputs": [
    {
     "name": "stdin",
     "output_type": "stream",
     "text": [
      "Enter the cost price of the bike:  2000\n"
     ]
    },
    {
     "name": "stdout",
     "output_type": "stream",
     "text": [
      "The road tax to be paid is: 100.0\n"
     ]
    }
   ],
   "source": [
    "def calculate_road_tax(cost_price):\n",
    "    if cost_price > 100000:\n",
    "        return cost_price * 0.15\n",
    "    elif cost_price > 50000:\n",
    "        return cost_price * 0.10\n",
    "    else:\n",
    "        return cost_price * 0.05\n",
    "\n",
    "cost_price = float(input(\"Enter the cost price of the bike: \"))\n",
    "road_tax = calculate_road_tax(cost_price)\n",
    "print(\"The road tax to be paid is:\", road_tax)"
   ]
  },
  {
   "cell_type": "code",
   "execution_count": null,
   "id": "498b24e7-9c2c-46d1-93bf-d168c2eca05e",
   "metadata": {},
   "outputs": [],
   "source": []
  },
  {
   "cell_type": "code",
   "execution_count": null,
   "id": "5fb728d5-bca9-4339-a06f-134c37cb8de2",
   "metadata": {},
   "outputs": [],
   "source": [
    "                ##Question 3"
   ]
  },
  {
   "cell_type": "code",
   "execution_count": 4,
   "id": "f0b5cedd-1395-41b4-a5d9-7887ed3cea40",
   "metadata": {},
   "outputs": [
    {
     "name": "stdin",
     "output_type": "stream",
     "text": [
      "Enter a city:  agra\n"
     ]
    },
    {
     "name": "stdout",
     "output_type": "stream",
     "text": [
      "The famous monument in agra is Taj Mahal\n"
     ]
    }
   ],
   "source": [
    "def display_monuments(city):\n",
    "    if city.lower  == \"delhi\":\n",
    "        return \"Red Fort\"\n",
    "    elif city.lower() == \"agra\":\n",
    "        return \"Taj Mahal\"\n",
    "    elif city.lower() == \"jaipur\":\n",
    "        return \"Jal Mahal\"\n",
    "    else:\n",
    "        return \"Monument not found for the given city\"\n",
    "\n",
    "city = input(\"Enter a city: \")\n",
    "monument = display_monuments(city)\n",
    "print(\"The famous monument in\", city, \"is\", monument)"
   ]
  },
  {
   "cell_type": "code",
   "execution_count": null,
   "id": "995d2f31-0edd-4212-a2c9-163de8a44657",
   "metadata": {},
   "outputs": [],
   "source": []
  },
  {
   "cell_type": "code",
   "execution_count": null,
   "id": "5449609b-8213-4779-b210-059a3d5fefca",
   "metadata": {},
   "outputs": [],
   "source": [
    "                ##Question 4 "
   ]
  },
  {
   "cell_type": "code",
   "execution_count": 5,
   "id": "cfc4da4b-4554-4caa-a066-ad6a6ff0a18a",
   "metadata": {},
   "outputs": [
    {
     "name": "stdin",
     "output_type": "stream",
     "text": [
      "Enter a number:  6\n"
     ]
    },
    {
     "name": "stdout",
     "output_type": "stream",
     "text": [
      "The number can be divided by 3 0 times before it is less than or equal to 10.\n"
     ]
    }
   ],
   "source": [
    "def count_divisions(num):\n",
    "    count = 0\n",
    "    while num > 10:\n",
    "        num = num / 3\n",
    "        count += 1\n",
    "    return count\n",
    "\n",
    "num = int(input(\"Enter a number: \"))\n",
    "divisions = count_divisions(num)\n",
    "print(\"The number can be divided by 3\", divisions, \"times before it is less than or equal to 10.\")\n"
   ]
  },
  {
   "cell_type": "code",
   "execution_count": null,
   "id": "0d56a3a0-447a-427c-9b8e-57f600167fe7",
   "metadata": {},
   "outputs": [],
   "source": []
  },
  {
   "cell_type": "code",
   "execution_count": null,
   "id": "4a316ee1-0025-48ec-a86c-0c8cb1576479",
   "metadata": {},
   "outputs": [],
   "source": [
    "                ##Question 5 "
   ]
  },
  {
   "cell_type": "code",
   "execution_count": null,
   "id": "afcbf6fa-0452-4c73-8da9-66c246b13590",
   "metadata": {},
   "outputs": [],
   "source": [
    "A while loop in Python is used to execute a block of code repeatedly as long as a specified condition is met.\n",
    "It is typically used when you don't know the number of times you need to iterate beforehand."
   ]
  },
  {
   "cell_type": "code",
   "execution_count": 6,
   "id": "83ebfe1d-134a-4d44-8708-c11b80fbcd57",
   "metadata": {},
   "outputs": [
    {
     "name": "stdout",
     "output_type": "stream",
     "text": [
      "The count is 0\n",
      "The count is 1\n",
      "The count is 2\n",
      "The count is 3\n",
      "The count is 4\n",
      "Akash Pandey\n"
     ]
    }
   ],
   "source": [
    "count = 0\n",
    "\n",
    "while count < 5:\n",
    "    print(\"The count is\", count)\n",
    "    count = count + 1\n",
    "\n",
    "print(\"Akash Pandey\")\n"
   ]
  },
  {
   "cell_type": "code",
   "execution_count": null,
   "id": "98dba652-199c-40b1-9bb9-14c5c1ac736a",
   "metadata": {},
   "outputs": [],
   "source": []
  },
  {
   "cell_type": "code",
   "execution_count": null,
   "id": "200d3eec-d213-4961-89a7-fcec07c4d3fa",
   "metadata": {},
   "outputs": [],
   "source": [
    "                ##question 6"
   ]
  },
  {
   "cell_type": "code",
   "execution_count": 7,
   "id": "092e0067-9e8c-4e96-9c9f-48882a0ce1a8",
   "metadata": {},
   "outputs": [
    {
     "name": "stdout",
     "output_type": "stream",
     "text": [
      "Pattern 1:\n",
      "*\n",
      "**\n",
      "***\n",
      "****\n",
      "*****\n",
      "\n",
      "Pattern 2:\n",
      "*****\n",
      "****\n",
      "***\n",
      "**\n",
      "*\n",
      "\n",
      "Pattern 3:\n",
      "    *\n",
      "   **\n",
      "  ***\n",
      " ****\n",
      "*****\n"
     ]
    }
   ],
   "source": [
    "# Pattern 1\n",
    "print(\"Pattern 1:\")\n",
    "i = 1\n",
    "while i <= 5:\n",
    "    j = 1\n",
    "    while j <= i:\n",
    "        print(\"*\", end=\"\")\n",
    "        j = j + 1\n",
    "    print(\"\")\n",
    "    i = i + 1\n",
    "\n",
    "# Pattern 2\n",
    "print(\"\\nPattern 2:\")\n",
    "i = 5\n",
    "while i >= 1:\n",
    "    j = 1\n",
    "    while j <= i:\n",
    "        print(\"*\", end=\"\")\n",
    "        j = j + 1\n",
    "    print(\"\")\n",
    "    i = i - 1\n",
    "\n",
    "# Pattern 3\n",
    "print(\"\\nPattern 3:\")\n",
    "i = 1\n",
    "while i <= 5:\n",
    "    j = 1\n",
    "    while j <= 5:\n",
    "        if j < 6 - i:\n",
    "            print(\" \", end=\"\")\n",
    "        else:\n",
    "            print(\"*\", end=\"\")\n",
    "        j = j + 1\n",
    "    print(\"\")\n",
    "    i = i + 1\n"
   ]
  },
  {
   "cell_type": "code",
   "execution_count": null,
   "id": "f741ee16-4374-46e2-b4e8-2e966a4f27a3",
   "metadata": {},
   "outputs": [],
   "source": []
  },
  {
   "cell_type": "code",
   "execution_count": null,
   "id": "8c8dee0c-f19c-4d4a-993b-69839358ec12",
   "metadata": {},
   "outputs": [],
   "source": [
    "            Question 7"
   ]
  },
  {
   "cell_type": "code",
   "execution_count": 8,
   "id": "d8853897-0de9-4081-8b72-6ee21b488812",
   "metadata": {},
   "outputs": [
    {
     "name": "stdout",
     "output_type": "stream",
     "text": [
      "10\n",
      "9\n",
      "8\n",
      "7\n",
      "6\n",
      "5\n",
      "4\n",
      "3\n",
      "2\n",
      "1\n"
     ]
    }
   ],
   "source": [
    "num = 10\n",
    "\n",
    "while num >= 1:\n",
    "    print(num)\n",
    "    num = num - 1\n"
   ]
  },
  {
   "cell_type": "code",
   "execution_count": null,
   "id": "99f044a2-d007-40f5-9657-24f853ecdc80",
   "metadata": {},
   "outputs": [],
   "source": []
  },
  {
   "cell_type": "code",
   "execution_count": null,
   "id": "11a14a87-5f9d-4dbd-99a0-b2e1d0d05b8a",
   "metadata": {},
   "outputs": [],
   "source": [
    "            #Question 8 "
   ]
  },
  {
   "cell_type": "code",
   "execution_count": null,
   "id": "6016e00f-78ea-4534-914a-428a7dff65a4",
   "metadata": {},
   "outputs": [],
   "source": [
    "#same question as 7"
   ]
  }
 ],
 "metadata": {
  "kernelspec": {
   "display_name": "Python 3 (ipykernel)",
   "language": "python",
   "name": "python3"
  },
  "language_info": {
   "codemirror_mode": {
    "name": "ipython",
    "version": 3
   },
   "file_extension": ".py",
   "mimetype": "text/x-python",
   "name": "python",
   "nbconvert_exporter": "python",
   "pygments_lexer": "ipython3",
   "version": "3.10.8"
  }
 },
 "nbformat": 4,
 "nbformat_minor": 5
}
