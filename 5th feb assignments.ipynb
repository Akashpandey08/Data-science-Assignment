{
 "cells": [
  {
   "cell_type": "code",
   "execution_count": null,
   "id": "0444cd6c-f050-4235-962c-3a1b56d81c42",
   "metadata": {},
   "outputs": [],
   "source": [
    "Q1 ANSWER"
   ]
  },
  {
   "cell_type": "code",
   "execution_count": null,
   "id": "dd457c8c-2231-4c18-ae16-7f0b56795e30",
   "metadata": {},
   "outputs": [],
   "source": [
    "In Object-Oriented Programming (OOP), a class is a blueprint or a template for creating objects. Objects are instances of classes and they can have properties and methods.\n",
    "\n",
    "Classes define a set of attributes and behaviors that are common to all objects of that class. For example, a \"Person\" class might have attributes like name, age, address, and behaviors like walking, talking, eating, etc. A specific person, such as \"John Doe\", would be an instance of the \"Person\" class and would have specific values for its attributes."
   ]
  },
  {
   "cell_type": "code",
   "execution_count": 2,
   "id": "c57766f6-b68f-4c17-8926-4bc4e2fb529e",
   "metadata": {},
   "outputs": [
    {
     "name": "stdout",
     "output_type": "stream",
     "text": [
      "Hi, I am Akash kumar and I live in India\n"
     ]
    }
   ],
   "source": [
    "class Person:\n",
    "    def __init__(self, name, age, address):\n",
    "        self.name = name\n",
    "        self.age = age\n",
    "        self.address = address\n",
    "\n",
    "    def talk(self):\n",
    "        print(f\"Hi, I am {self.name} and I live in {self.address}\")\n",
    "\n",
    "person = Person(\"Akash kumar\", 30, \"India\")\n",
    "person.talk()\n"
   ]
  },
  {
   "cell_type": "code",
   "execution_count": null,
   "id": "4cace172-b958-478c-b8c8-03984aca4b93",
   "metadata": {},
   "outputs": [],
   "source": []
  },
  {
   "cell_type": "code",
   "execution_count": null,
   "id": "0b5c826c-64d2-4392-b3c7-2f7dff55c70f",
   "metadata": {},
   "outputs": [],
   "source": [
    "Q2 ANSWERS"
   ]
  },
  {
   "cell_type": "code",
   "execution_count": null,
   "id": "2ea2ad9c-b641-4188-a0c8-84c91c8a7336",
   "metadata": {},
   "outputs": [],
   "source": [
    "The four pillars for OOP are Abstraction, Encapsulation, Inheritance, Polymorphism.\n",
    "\n",
    "Abstraction : Abstraction is the process of showing only essential/necessary features of an entity/object to the \n",
    "outside world and hide the other irrelevant information. For example to open your TV we only have a power button, \n",
    "It is not required to understand how infra-red waves are getting generated in TV remote control.\n",
    "\n",
    "Encapsulation : Encapsulation means wrapping up data and member function (Method) together into a \n",
    "single unit i.e. class. Encapsulation automatically achieve the concept of data hiding providing security to \n",
    "data by making the variable as private and expose the property to access the private data which would be public.\n",
    "\n",
    "Inheritance : The ability of creating a new class from an existing class. Inheritance is when an object acquires \n",
    "the property of another object. Inheritance allows a class (subclass) to acquire the properties and behavior of\n",
    "another class (super-class). It helps to reuse, customize and enhance the existing code.\n",
    "So it helps to write a code accurately and reduce the development time.\n",
    "\n",
    "Polymorphism: Polymorphism is derived from 2 Greek words: poly and morphs. The word \"poly\" means many \n",
    "and \"morphs\" means forms. So polymorphism means \"many forms\". A subclass can define its own unique behavior \n",
    "and still share the same functionalities or behavior of its parent/base class. A subclass can have their own\n",
    "behavior and share some of its behavior from its parent class not the other way around. A parent class cannot \n",
    "have the behavior of its subclass."
   ]
  },
  {
   "cell_type": "code",
   "execution_count": null,
   "id": "29370fb5-a9fb-4546-89b1-fb1b802d4c81",
   "metadata": {},
   "outputs": [],
   "source": []
  },
  {
   "cell_type": "code",
   "execution_count": null,
   "id": "b5ddc32b-7a8e-4971-9221-2d49629d55cd",
   "metadata": {},
   "outputs": [],
   "source": [
    "Q3 ANSWERS"
   ]
  },
  {
   "cell_type": "code",
   "execution_count": null,
   "id": "5766200c-9f17-4d58-a194-dc3b8561b300",
   "metadata": {},
   "outputs": [],
   "source": [
    "The __init__ method is a special method in Python classes that is automatically executed when an object of the class is created."
   ]
  },
  {
   "cell_type": "code",
   "execution_count": 9,
   "id": "9094c75a-0b06-4ef8-b8e8-b88597168fb7",
   "metadata": {},
   "outputs": [
    {
     "name": "stdout",
     "output_type": "stream",
     "text": [
      "Make: Toyota, Model: Camry, Year: 2020, Color: Black\n"
     ]
    }
   ],
   "source": [
    "class Car:\n",
    "    def __init__(self, make, model, year, color):\n",
    "        self.make = make\n",
    "        self.model = model\n",
    "        self.year = year\n",
    "        self.color = color\n",
    "\n",
    "    def get_car_details(self):\n",
    "        return f\"Make: {self.make}, Model: {self.model}, Year: {self.year}, Color: {self.color}\"\n",
    "\n",
    "my_car = Car(\"Toyota\", \"Camry\", 2020, \"Black\")\n",
    "print(my_car.get_car_details())\n",
    "\n"
   ]
  },
  {
   "cell_type": "code",
   "execution_count": null,
   "id": "1e7f11c2-6c8d-4465-8ae7-22840e0e7b6b",
   "metadata": {},
   "outputs": [],
   "source": []
  },
  {
   "cell_type": "code",
   "execution_count": null,
   "id": "825e274c-3340-4eeb-a2a2-32bd7909d10d",
   "metadata": {},
   "outputs": [],
   "source": [
    "Q4 ANSWER"
   ]
  },
  {
   "cell_type": "code",
   "execution_count": null,
   "id": "df789301-7b41-4901-a610-9d19028d8eb1",
   "metadata": {},
   "outputs": [],
   "source": [
    "In Object-Oriented Programming (OOP), self is a reference to the instance of the class that is\n",
    "currently being executed. It is used to access the attributes and methods of the class from within the class \n",
    "definition. In other words, self is a way to refer to the instance of the class, so that the instance's attributes\n",
    "and methods can be accessed."
   ]
  },
  {
   "cell_type": "code",
   "execution_count": null,
   "id": "aca04f98-d647-4b45-9b59-456644ce0173",
   "metadata": {},
   "outputs": [],
   "source": []
  },
  {
   "cell_type": "code",
   "execution_count": null,
   "id": "ad83096e-1619-4b38-b55c-7e46b331e621",
   "metadata": {},
   "outputs": [],
   "source": [
    "Q5 ANSWER "
   ]
  },
  {
   "cell_type": "code",
   "execution_count": null,
   "id": "88225836-4518-475d-b57b-d66d23749078",
   "metadata": {},
   "outputs": [],
   "source": [
    "Inheritance is a mechanism in Object-Oriented Programming (OOP) that allows one class to inherit the\n",
    "properties and methods of another class. It is a way to create a new class that is a modified version of \n",
    "an existing class, without having to rewrite all of the code in the new class. The class that is \n",
    "being inherited from is called the parent or base class, and the new class is called the child or derived class.\n",
    "\n",
    "Single Inheritance:\n",
    "In single inheritance, a child class inherits the properties and methods of a single parent class. \n",
    "This is the simplest form of inheritance.\n",
    "\n",
    "Multiple Inheritance:\n",
    "In multiple inheritance, a child class can inherit from multiple parent classes,\n",
    "meaning it can inherit attributes and methods from multiple base classes.\n",
    "\n",
    "Multilevel Inheritance:\n",
    "In multilevel inheritance, a child class inherits from a parent class, which in turn inherits \n",
    "from another parent class. This allows for a hierarchy of classes to be created.\n",
    "\n",
    "Hierarchical Inheritance:\n",
    "In hierarchical inheritance, a single parent class is inherited by multiple child classes."
   ]
  },
  {
   "cell_type": "code",
   "execution_count": null,
   "id": "8b93aa03-9525-4fff-80c5-f05683ba2eed",
   "metadata": {},
   "outputs": [],
   "source": []
  }
 ],
 "metadata": {
  "kernelspec": {
   "display_name": "Python 3 (ipykernel)",
   "language": "python",
   "name": "python3"
  },
  "language_info": {
   "codemirror_mode": {
    "name": "ipython",
    "version": 3
   },
   "file_extension": ".py",
   "mimetype": "text/x-python",
   "name": "python",
   "nbconvert_exporter": "python",
   "pygments_lexer": "ipython3",
   "version": "3.10.8"
  }
 },
 "nbformat": 4,
 "nbformat_minor": 5
}
