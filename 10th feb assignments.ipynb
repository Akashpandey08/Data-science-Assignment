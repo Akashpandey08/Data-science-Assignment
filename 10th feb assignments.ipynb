{
 "cells": [
  {
   "cell_type": "code",
   "execution_count": null,
   "id": "d072f432-328c-4fdd-a5da-45f3d7ceab03",
   "metadata": {},
   "outputs": [],
   "source": [
    "                        Q1 ANSWER"
   ]
  },
  {
   "cell_type": "markdown",
   "id": "8e18a23c-ae46-4e03-9043-6f96bbb1eed8",
   "metadata": {},
   "source": [
    "There are several modes in which a file can be opened in Python:\n",
    "\n",
    "'r' (Read Only): This is the default mode, and it opens the file for reading only. The file pointer is placed at the beginning of the file.\n",
    "\n",
    "'w' (Write Only): This mode opens the file for writing only. If the file already exists, its contents will be truncated (deleted). If the file does not exist, a new file will be created.\n",
    "\n",
    "'a' (Append Only): This mode opens the file for writing only, and it appends new data to the end of the file. If the file does not exist, a new file will be created.\n",
    "\n",
    "'x' (Write Exclusive Creation): This mode is similar to 'w', but it fails if the file already exists.\n",
    "\n",
    "'b' (Binary Mode): This mode is used to open a binary file, such as an image or a binary data file. This mode is usually used in combination with other modes, such as 'rb' for reading a binary file, or 'wb' for writing a binary file.\n",
    "\n",
    "'+' (Read and Write): This mode opens the file for reading and writing. The file pointer is placed at the beginning of the file."
   ]
  },
  {
   "cell_type": "code",
   "execution_count": null,
   "id": "efabce34-c0c9-43c5-98cf-a53cf0ce6841",
   "metadata": {},
   "outputs": [],
   "source": []
  },
  {
   "cell_type": "code",
   "execution_count": null,
   "id": "6370a243-0797-412c-9c48-be8a2f9e79d1",
   "metadata": {},
   "outputs": [],
   "source": [
    "                    2 ANSWER "
   ]
  },
  {
   "cell_type": "markdown",
   "id": "d59889c3-f5fd-4f25-92c7-9df7bd16437a",
   "metadata": {},
   "source": [
    "The close() function is used to close an open file in Python. It is important to close a file after you are done with it because it frees up resources and ensures that the data you have written to the file is saved to disk.\n",
    "\n",
    "When a file is open, Python reserves a certain amount of memory and system resources for the file object. If you open too many files at once or keep files open for an extended period of time, you can run out of memory or other resources on your computer. Closing the file releases these resources and allows other parts of your program to use them.\n",
    "\n",
    "In addition, if you don't close a file after writing to it, there is a risk that the data you have written to the file may not be saved. The operating system may write data to disk in an unpredictable manner, so it's important to close a file after writing to\n"
   ]
  },
  {
   "cell_type": "code",
   "execution_count": null,
   "id": "c8798f52-efbe-4929-af97-f290484f39fd",
   "metadata": {},
   "outputs": [],
   "source": []
  },
  {
   "cell_type": "code",
   "execution_count": null,
   "id": "cd00bc85-4bd5-4f91-8b01-a5fc52f04ab6",
   "metadata": {},
   "outputs": [],
   "source": [
    "                        3 ANSWER "
   ]
  },
  {
   "cell_type": "code",
   "execution_count": 3,
   "id": "489f1592-f172-4cba-888f-c5c2d4eb7337",
   "metadata": {},
   "outputs": [
    {
     "name": "stdout",
     "output_type": "stream",
     "text": [
      "I want to become a Data Scientist\n"
     ]
    }
   ],
   "source": [
    "\n",
    "filename = \"my_text_file.txt\"\n",
    "file = open(filename, \"w\")\n",
    "file.write(\"I want to become a Data Scientist\")\n",
    "file.close()\n",
    "file = open(filename, \"r\")\n",
    "content = file.read()\n",
    "print(content)\n",
    "file.close()\n"
   ]
  },
  {
   "cell_type": "code",
   "execution_count": null,
   "id": "fdfbd9e6-f214-450d-912c-8626445ccbeb",
   "metadata": {},
   "outputs": [],
   "source": []
  },
  {
   "cell_type": "code",
   "execution_count": null,
   "id": "127a2f3d-58a0-40f5-b5a6-170f89d381e0",
   "metadata": {},
   "outputs": [],
   "source": [
    "                        4 ANSWER "
   ]
  },
  {
   "cell_type": "markdown",
   "id": "adb8144f-3564-4572-ad7e-712323dbb125",
   "metadata": {},
   "source": [
    "read() method: The read() method is used to read the entire contents of a file as a single string."
   ]
  },
  {
   "cell_type": "code",
   "execution_count": 4,
   "id": "6d023397-8378-4a56-99e0-ac57864c7bea",
   "metadata": {},
   "outputs": [
    {
     "name": "stdout",
     "output_type": "stream",
     "text": [
      "I want to become a Data Scientist\n"
     ]
    }
   ],
   "source": [
    "file = open(\"my_text_file.txt\", \"r\")\n",
    "content = file.read()\n",
    "print(content)\n",
    "file.close()\n"
   ]
  },
  {
   "cell_type": "markdown",
   "id": "52aafae0-527e-496e-8dfd-058c92f6eab3",
   "metadata": {},
   "source": [
    "readline() method: The readline() method is used to read a single line from the file. The method can be called multiple times to read multiple lines.\n"
   ]
  },
  {
   "cell_type": "code",
   "execution_count": 5,
   "id": "af8f83f2-892d-4059-8fd2-573dc85c7c4e",
   "metadata": {},
   "outputs": [
    {
     "name": "stdout",
     "output_type": "stream",
     "text": [
      "I want to become a Data Scientist\n",
      "\n"
     ]
    }
   ],
   "source": [
    "file = open(\"my_text_file.txt\", \"r\")\n",
    "line = file.readline()\n",
    "print(line)\n",
    "line = file.readline()\n",
    "print(line)\n",
    "file.close()\n"
   ]
  },
  {
   "cell_type": "markdown",
   "id": "30d47ab9-046e-4fad-8780-3af380ed49a9",
   "metadata": {},
   "source": [
    "readlines() method: The readlines() method is used to read all the lines of a file and return them as a list of strings, where each element in the list represents a single line of the file."
   ]
  },
  {
   "cell_type": "code",
   "execution_count": 6,
   "id": "a16a70d5-4906-4ea5-86a9-4250f81df559",
   "metadata": {},
   "outputs": [
    {
     "name": "stdout",
     "output_type": "stream",
     "text": [
      "I want to become a Data Scientist\n"
     ]
    }
   ],
   "source": [
    "file = open(\"my_text_file.txt\", \"r\")\n",
    "lines = file.readlines()\n",
    "for line in lines:\n",
    "    print(line)\n",
    "file.close()\n"
   ]
  },
  {
   "cell_type": "code",
   "execution_count": null,
   "id": "148c6b99-1490-4c08-a8cf-87ad2e14e909",
   "metadata": {},
   "outputs": [],
   "source": []
  },
  {
   "cell_type": "code",
   "execution_count": null,
   "id": "ab22982d-035c-4fb6-bdf2-ea0e28f139f5",
   "metadata": {},
   "outputs": [],
   "source": [
    "                        5 ANSWER "
   ]
  },
  {
   "cell_type": "markdown",
   "id": "b37a6d07-f47d-4f35-a4ef-c56890e950ea",
   "metadata": {},
   "source": [
    "The \"with\" statement is used with the \"open()\" function in Python to ensure that the file is properly closed after the block of code inside the \"with\" statement is executed, even if an exception is raised. This eliminates the need to manually close the file, as the file will be closed automatically when the block of code inside the \"with\" statement is completed.\n",
    "\n",
    "Advantages of using the \"with\" statement and \"open()\" function together are:\n",
    "\n",
    "Resource management: Using the \"with\" statement with \"open()\" ensures that the file is properly closed even if an exception is raised, eliminating the need for manual file close statements.\n",
    "\n",
    "Error handling: If the file cannot be opened due to an error, the \"with\" statement will automatically raise an exception, making it easier to handle errors.\n",
    "\n",
    "Simplified code: The \"with\" statement makes the code more readable and simpler, as it eliminates the need for manual file close statements."
   ]
  },
  {
   "cell_type": "code",
   "execution_count": null,
   "id": "ad5eaa3b-0be8-46d3-aa27-c36b793d91e3",
   "metadata": {},
   "outputs": [],
   "source": [
    "                        6 ANSWER "
   ]
  },
  {
   "cell_type": "markdown",
   "id": "37f9fad0-b3ad-4a37-a107-7355f3b21c6f",
   "metadata": {},
   "source": [
    "The write() function in Python is used to write a string to a file. It takes a string as an argument and writes it to the file. If the file does not exist, it creates a new file and writes the string to it. If the file already exists, it overwrites the content of the file."
   ]
  },
  {
   "cell_type": "code",
   "execution_count": 7,
   "id": "b2f66f73-ed93-4554-b07a-5b7f563dd533",
   "metadata": {},
   "outputs": [],
   "source": [
    "with open(\"sample.txt\", \"w\") as file:\n",
    "    file.write(\"Hello, I am writing to a file using write() function\")\n"
   ]
  },
  {
   "cell_type": "code",
   "execution_count": null,
   "id": "408e682f-b794-4412-b2cd-20cfa67e3cb1",
   "metadata": {},
   "outputs": [],
   "source": []
  }
 ],
 "metadata": {
  "kernelspec": {
   "display_name": "Python 3 (ipykernel)",
   "language": "python",
   "name": "python3"
  },
  "language_info": {
   "codemirror_mode": {
    "name": "ipython",
    "version": 3
   },
   "file_extension": ".py",
   "mimetype": "text/x-python",
   "name": "python",
   "nbconvert_exporter": "python",
   "pygments_lexer": "ipython3",
   "version": "3.10.8"
  }
 },
 "nbformat": 4,
 "nbformat_minor": 5
}
