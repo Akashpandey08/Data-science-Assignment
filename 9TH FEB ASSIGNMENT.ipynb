{
 "cells": [
  {
   "cell_type": "code",
   "execution_count": null,
   "id": "2c0c6741-f6f9-4e01-beb1-f7e46d78c98f",
   "metadata": {},
   "outputs": [],
   "source": [
    "QUESTION 1 ANSWER "
   ]
  },
  {
   "cell_type": "code",
   "execution_count": 1,
   "id": "985ed986-2670-4822-b224-9cd3b3ef0f9d",
   "metadata": {},
   "outputs": [
    {
     "name": "stdout",
     "output_type": "stream",
     "text": [
      "Name of Vehicle: Car\n",
      "Max Speed: 200\n",
      "Average of Vehicle: 30\n"
     ]
    }
   ],
   "source": [
    "class Vehicle:\n",
    "    def __init__(self, name_of_vehicle, max_speed, average_of_vehicle):\n",
    "        self.name_of_vehicle = name_of_vehicle\n",
    "        self.max_speed = max_speed\n",
    "        self.average_of_vehicle = average_of_vehicle\n",
    "\n",
    "vehicle = Vehicle(\"Car\", 200, 30)\n",
    "\n",
    "print(\"Name of Vehicle:\", vehicle.name_of_vehicle)\n",
    "print(\"Max Speed:\", vehicle.max_speed)\n",
    "print(\"Average of Vehicle:\", vehicle.average_of_vehicle)\n"
   ]
  },
  {
   "cell_type": "code",
   "execution_count": null,
   "id": "a94caf72-a52e-4b2b-9070-24cc473ac93b",
   "metadata": {},
   "outputs": [],
   "source": []
  },
  {
   "cell_type": "code",
   "execution_count": null,
   "id": "c8f7a9a2-3a35-42cf-a1a1-219147bd7c78",
   "metadata": {},
   "outputs": [],
   "source": [
    "QUESTION 2 ANSWER "
   ]
  },
  {
   "cell_type": "code",
   "execution_count": 2,
   "id": "6b07d80a-529d-4447-b89f-cec412c1ccfe",
   "metadata": {},
   "outputs": [
    {
     "name": "stdout",
     "output_type": "stream",
     "text": [
      "Name of Vehicle: Sedan\n",
      "Max Speed: 220\n",
      "Average of Vehicle: 35\n",
      "Sedan has a seating capacity of 5.\n"
     ]
    }
   ],
   "source": [
    "class Vehicle:\n",
    "    def __init__(self, name_of_vehicle, max_speed, average_of_vehicle):\n",
    "        self.name_of_vehicle = name_of_vehicle\n",
    "        self.max_speed = max_speed\n",
    "        self.average_of_vehicle = average_of_vehicle\n",
    "\n",
    "class Car(Vehicle):\n",
    "    def seating_capacity(self, capacity):\n",
    "        return f\"{self.name_of_vehicle} has a seating capacity of {capacity}.\"\n",
    "\n",
    "car = Car(\"Sedan\", 220, 35)\n",
    "\n",
    "print(\"Name of Vehicle:\", car.name_of_vehicle)\n",
    "print(\"Max Speed:\", car.max_speed)\n",
    "print(\"Average of Vehicle:\", car.average_of_vehicle)\n",
    "\n",
    "print(car.seating_capacity(5))\n"
   ]
  },
  {
   "cell_type": "code",
   "execution_count": null,
   "id": "0ffd19f0-41c8-4f9f-8408-1c8a187be1de",
   "metadata": {},
   "outputs": [],
   "source": []
  },
  {
   "cell_type": "code",
   "execution_count": null,
   "id": "2154fa2d-a019-414e-9cb1-25b6e96cd8b5",
   "metadata": {},
   "outputs": [],
   "source": [
    "QUESTION 3 ANSWER "
   ]
  },
  {
   "cell_type": "markdown",
   "id": "05e9054f-fc91-4975-ac1c-f8b394c87164",
   "metadata": {},
   "source": [
    "Multiple inheritance is a feature in object-oriented programming languages that allows a class to inherit attributes and methods from more than one parent class. This allows for the creation of complex classes that can be made up of the attributes and methods of multiple base classes."
   ]
  },
  {
   "cell_type": "code",
   "execution_count": 3,
   "id": "b271185c-e8af-40d1-9a5d-49333709b07a",
   "metadata": {},
   "outputs": [
    {
     "name": "stdout",
     "output_type": "stream",
     "text": [
      "Eye Color: brown\n",
      "Hair Color: black\n"
     ]
    }
   ],
   "source": [
    "class Mother:\n",
    "    def __init__(self):\n",
    "        self.eye_color = \"brown\"\n",
    "        self.hair_color = \"black\"\n",
    "        \n",
    "class Father:\n",
    "    def __init__(self):\n",
    "        self.eye_color = \"blue\"\n",
    "        self.hair_color = \"blonde\"\n",
    "        \n",
    "class Child(Mother, Father):\n",
    "    pass\n",
    "\n",
    "child = Child()\n",
    "\n",
    "print(\"Eye Color:\", child.eye_color)\n",
    "print(\"Hair Color:\", child.hair_color)\n"
   ]
  },
  {
   "cell_type": "code",
   "execution_count": null,
   "id": "f6ec152e-4279-4e46-909a-b3bfe4b82f3a",
   "metadata": {},
   "outputs": [],
   "source": []
  },
  {
   "cell_type": "code",
   "execution_count": null,
   "id": "b458f225-08df-4d75-9d68-2d254e569cb0",
   "metadata": {},
   "outputs": [],
   "source": [
    "QUESTION 4 ANSWER "
   ]
  },
  {
   "cell_type": "markdown",
   "id": "adc841d7-510a-47f2-8043-ef29fafe82ba",
   "metadata": {},
   "source": [
    "Getters and setters are special methods in object-oriented programming that allow you to access and modify an object's attributes in a controlled manner. They provide a way to encapsulate the internal state of an object and expose it to the outside world in a way that ensures data integrity and prevents unintended changes to the object's state.\n",
    "\n",
    "Getter methods, also known as accessors, are used to retrieve the value of an object's attribute. Setter methods, also known as mutators, are used to modify the value of an object's attribute."
   ]
  },
  {
   "cell_type": "code",
   "execution_count": 4,
   "id": "bbfd0157-d5b3-44be-82ad-96dea48a1fa6",
   "metadata": {},
   "outputs": [
    {
     "name": "stdout",
     "output_type": "stream",
     "text": [
      "Name: John Doe\n",
      "Name: Jane Doe\n",
      "Age: 30\n",
      "Age: 35\n"
     ]
    }
   ],
   "source": [
    "class Person:\n",
    "    def __init__(self, name, age):\n",
    "        self._name = name\n",
    "        self._age = age\n",
    "\n",
    "    def get_name(self):\n",
    "        return self._name\n",
    "\n",
    "    def set_name(self, name):\n",
    "        self._name = name\n",
    "\n",
    "    def get_age(self):\n",
    "        return self._age\n",
    "\n",
    "    def set_age(self, age):\n",
    "        if age >= 0:\n",
    "            self._age = age\n",
    "        else:\n",
    "            raise ValueError(\"Age must be a positive integer.\")\n",
    "person = Person(\"John Doe\", 30)\n",
    "print(\"Name:\", person.get_name())\n",
    "person.set_name(\"Jane Doe\")\n",
    "print(\"Name:\", person.get_name())\n",
    "print(\"Age:\", person.get_age())\n",
    "person.set_age(35)\n",
    "print(\"Age:\", person.get_age())\n"
   ]
  },
  {
   "cell_type": "code",
   "execution_count": null,
   "id": "2fef67d9-d461-4b89-9fb3-7370735e9200",
   "metadata": {},
   "outputs": [],
   "source": []
  },
  {
   "cell_type": "code",
   "execution_count": null,
   "id": "9a78f595-cbd2-4ba7-9de2-7cb9ee036cde",
   "metadata": {},
   "outputs": [],
   "source": [
    "Question 5 answer "
   ]
  },
  {
   "cell_type": "markdown",
   "id": "27b04d58-0263-4cfa-9fd8-3a67db6ac046",
   "metadata": {},
   "source": [
    "Method overriding in Python is a feature of object-oriented programming that allows a subclass to provide a different implementation of a method that is already defined in its superclass. In other words, method overriding allows you to change the behavior of a method in a subclass, while still maintaining the original behavior in the superclass."
   ]
  },
  {
   "cell_type": "code",
   "execution_count": 5,
   "id": "afdaae97-2248-40d9-88a2-f0ebfe1ea164",
   "metadata": {},
   "outputs": [
    {
     "name": "stdout",
     "output_type": "stream",
     "text": [
      "The dog barks\n"
     ]
    }
   ],
   "source": [
    "class Animal:\n",
    "    def make_sound(self):\n",
    "        print(\"The animal makes a sound\")\n",
    "\n",
    "class Dog(Animal):\n",
    "    def make_sound(self):\n",
    "        print(\"The dog barks\")\n",
    "\n",
    "dog = Dog()\n",
    "dog.make_sound()\n"
   ]
  },
  {
   "cell_type": "code",
   "execution_count": null,
   "id": "2bf4a731-5cfa-4f50-a847-7b352af45575",
   "metadata": {},
   "outputs": [],
   "source": []
  }
 ],
 "metadata": {
  "kernelspec": {
   "display_name": "Python 3 (ipykernel)",
   "language": "python",
   "name": "python3"
  },
  "language_info": {
   "codemirror_mode": {
    "name": "ipython",
    "version": 3
   },
   "file_extension": ".py",
   "mimetype": "text/x-python",
   "name": "python",
   "nbconvert_exporter": "python",
   "pygments_lexer": "ipython3",
   "version": "3.10.8"
  }
 },
 "nbformat": 4,
 "nbformat_minor": 5
}
