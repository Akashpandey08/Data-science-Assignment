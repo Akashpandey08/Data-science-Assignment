{
 "cells": [
  {
   "cell_type": "code",
   "execution_count": null,
   "id": "66118898-2b12-434e-bfdf-c8066841dbaf",
   "metadata": {},
   "outputs": [],
   "source": [
    "q1 ANSWER"
   ]
  },
  {
   "cell_type": "code",
   "execution_count": null,
   "id": "7a8645d5-0fc2-485b-acc0-79663497456d",
   "metadata": {},
   "outputs": [],
   "source": [
    "Guido van Rossum"
   ]
  },
  {
   "cell_type": "code",
   "execution_count": null,
   "id": "045d5b56-e27f-4c5a-a6b4-201448d589d8",
   "metadata": {},
   "outputs": [],
   "source": []
  },
  {
   "cell_type": "code",
   "execution_count": null,
   "id": "8767fd18-edbc-4ca9-b6b9-e9bfcc46c485",
   "metadata": {},
   "outputs": [],
   "source": [
    "Q2"
   ]
  },
  {
   "cell_type": "code",
   "execution_count": null,
   "id": "09714f14-064e-4af0-8485-20e1cce71d4c",
   "metadata": {},
   "outputs": [],
   "source": [
    "Object-oriented programming and structured programming"
   ]
  },
  {
   "cell_type": "code",
   "execution_count": null,
   "id": "547349e2-b5ff-4ac5-9bad-51aaa9880c23",
   "metadata": {},
   "outputs": [],
   "source": []
  },
  {
   "cell_type": "code",
   "execution_count": null,
   "id": "91a76f54-fc42-48bd-a90b-664dd026eab4",
   "metadata": {},
   "outputs": [],
   "source": [
    "Q3"
   ]
  },
  {
   "cell_type": "code",
   "execution_count": null,
   "id": "ecb3b4ce-909b-490a-add6-ee884493ed52",
   "metadata": {},
   "outputs": [],
   "source": [
    "Yes, Python is a case-sensitive language"
   ]
  },
  {
   "cell_type": "code",
   "execution_count": null,
   "id": "27d267d5-8a8e-4172-8fa6-c8088b82e942",
   "metadata": {},
   "outputs": [],
   "source": []
  },
  {
   "cell_type": "code",
   "execution_count": null,
   "id": "8119777d-97e7-4476-9269-a22722201feb",
   "metadata": {},
   "outputs": [],
   "source": [
    "Q4"
   ]
  },
  {
   "cell_type": "code",
   "execution_count": null,
   "id": "1605841d-1c7c-4787-aba1-c304cf6217c0",
   "metadata": {},
   "outputs": [],
   "source": [
    " . py, . pyi"
   ]
  },
  {
   "cell_type": "code",
   "execution_count": null,
   "id": "375882ba-50d9-4198-9226-f8bb2f0ac5c6",
   "metadata": {},
   "outputs": [],
   "source": []
  },
  {
   "cell_type": "code",
   "execution_count": null,
   "id": "d0cd6233-e553-4807-a3e5-9d501aa3210b",
   "metadata": {},
   "outputs": [],
   "source": [
    "Q5"
   ]
  },
  {
   "cell_type": "code",
   "execution_count": null,
   "id": "940ecb02-9eeb-4f35-b8ea-eb590004f294",
   "metadata": {},
   "outputs": [],
   "source": [
    "interpreted language"
   ]
  },
  {
   "cell_type": "code",
   "execution_count": null,
   "id": "8a376734-d4f3-4666-b37c-943dfdf12731",
   "metadata": {},
   "outputs": [],
   "source": []
  },
  {
   "cell_type": "code",
   "execution_count": null,
   "id": "d8c64c34-0be5-48dd-b9f9-29ae52623a29",
   "metadata": {},
   "outputs": [],
   "source": [
    "q6"
   ]
  },
  {
   "cell_type": "code",
   "execution_count": null,
   "id": "c27a5233-34fe-4e24-bffc-4ee73fabe6d1",
   "metadata": {},
   "outputs": [],
   "source": [
    "1.Functions: Functions are used to encapsulate a block of code that performs a specific task. \n",
    "Functions are defined using the def keyword, followed by the function name and its arguments within parentheses.\n",
    "\n",
    "2.Loops: Loops are used to repeat a block of code multiple times. \n",
    "Python provides two types of loops: for loops and while loops.\n",
    "\n",
    "3.Conditional statements: Conditional statements are used to perform different actions based on \n",
    "different conditions. The most commonly used conditional statement in Python is the if statement.\n",
    "\n",
    "4.Classes: Classes are used to define new user-defined data types in Python. \n",
    "Classes are defined using the class keyword, followed by the class name."
   ]
  },
  {
   "cell_type": "code",
   "execution_count": null,
   "id": "bad17031-2361-4f52-b70f-aac93ec521e7",
   "metadata": {},
   "outputs": [],
   "source": []
  },
  {
   "cell_type": "code",
   "execution_count": null,
   "id": "18ef7502-ce21-4cd0-87f3-f2432d40971a",
   "metadata": {},
   "outputs": [],
   "source": [
    "q7"
   ]
  },
  {
   "cell_type": "code",
   "execution_count": null,
   "id": "0d95e5de-4bae-4e08-9ea8-284bec26e582",
   "metadata": {},
   "outputs": [],
   "source": [
    "##"
   ]
  },
  {
   "cell_type": "code",
   "execution_count": null,
   "id": "becc94bd-5685-43bc-b10f-23badf7fc717",
   "metadata": {},
   "outputs": [],
   "source": [
    "q8"
   ]
  },
  {
   "cell_type": "code",
   "execution_count": null,
   "id": "76510a84-59dc-40cb-b178-fefb27da8133",
   "metadata": {},
   "outputs": [],
   "source": [
    "python_version()"
   ]
  },
  {
   "cell_type": "code",
   "execution_count": null,
   "id": "42c540c8-ce24-47ea-98c9-9419f800f390",
   "metadata": {},
   "outputs": [],
   "source": [
    "q9"
   ]
  },
  {
   "cell_type": "code",
   "execution_count": null,
   "id": "dbe59de4-5d3e-4632-b0e3-a07adf5563b7",
   "metadata": {},
   "outputs": [],
   "source": [
    "\"lambda\""
   ]
  },
  {
   "cell_type": "code",
   "execution_count": null,
   "id": "ae5446df-e578-48fd-aa36-dc3b981347c8",
   "metadata": {},
   "outputs": [],
   "source": [
    "Q10"
   ]
  },
  {
   "cell_type": "code",
   "execution_count": null,
   "id": "34caf67a-4892-4617-9a9c-86e455befb37",
   "metadata": {},
   "outputs": [],
   "source": [
    "PIP stands for \"Pip Installs Packages\" and is a package management system for Python. \n",
    "It is used to install and manage Python packages, which are collections of modules that\n",
    "provide additional functionality to the Python programming language."
   ]
  },
  {
   "cell_type": "code",
   "execution_count": null,
   "id": "b7d64d28-261c-4f9b-856c-8dfe5500f4a1",
   "metadata": {},
   "outputs": [],
   "source": []
  },
  {
   "cell_type": "code",
   "execution_count": null,
   "id": "b3ec5706-2cd8-40f9-a263-f63f76db43c4",
   "metadata": {},
   "outputs": [],
   "source": [
    "Q11 "
   ]
  },
  {
   "cell_type": "code",
   "execution_count": null,
   "id": "4131e25a-4ada-46de-915e-9bdcc0d7830a",
   "metadata": {},
   "outputs": [],
   "source": [
    "print() - Prints text to the console\n",
    "len() - Returns the length of an object\n",
    "str() - Converts an object to a string\n",
    "int() - Converts an object to an integer\n",
    "float() - Converts an object to a floating-point number\n",
    "list() - Converts an object to a list\n",
    "tuple() - Converts an object to a tuple\n",
    "set() - Converts an object to a set\n",
    "dict() - Converts an object to a dictionary"
   ]
  },
  {
   "cell_type": "code",
   "execution_count": null,
   "id": "48377bb7-7a83-48ce-9c07-93862188fdc4",
   "metadata": {},
   "outputs": [],
   "source": []
  },
  {
   "cell_type": "code",
   "execution_count": null,
   "id": "ab61e33d-0b0f-411f-9810-94ca256908b2",
   "metadata": {},
   "outputs": [],
   "source": [
    "Q12"
   ]
  },
  {
   "cell_type": "code",
   "execution_count": null,
   "id": "44c332c6-5248-41f7-84ef-8f7c063ba9ac",
   "metadata": {},
   "outputs": [],
   "source": [
    "There is no specific maximum length for an identifier in Python. An identifier in Python can be of any length as \n",
    "long as it is not a keyword and adheres to the rules for naming identifiers."
   ]
  },
  {
   "cell_type": "code",
   "execution_count": null,
   "id": "4ccf6ea4-0aa8-4d74-9656-41d87b195ef6",
   "metadata": {},
   "outputs": [],
   "source": []
  },
  {
   "cell_type": "code",
   "execution_count": null,
   "id": "3fdbd40b-8514-45ce-81af-f82ab4a6a6ae",
   "metadata": {},
   "outputs": [],
   "source": [
    "Q13"
   ]
  },
  {
   "cell_type": "code",
   "execution_count": null,
   "id": "0ec3df9c-d52a-480c-a334-ef075d3c8d2b",
   "metadata": {},
   "outputs": [],
   "source": [
    "1.Easy to Learn: Python has a very simple and straightforward syntax, which makes it easy for beginners to learn.\n",
    "\n",
    "2.Versatile: Python can be used for a wide range of applications, including web development, scientific computing,\n",
    "data analysis, artificial intelligence, and more.\n",
    "\n",
    "3 Large Standard Library: Python has a large standard library that supports many common programming tasks, such \n",
    "as connecting to web servers, reading and writing files, and working with data.\n",
    "\n",
    "4.Dynamic Typing: Python uses dynamic typing, which means that you don't need to specify the data type of a \n",
    "variable before using it. This makes the code more flexible and easier to write."
   ]
  },
  {
   "cell_type": "code",
   "execution_count": null,
   "id": "bdd8afdc-5220-4062-ad28-63457cf9cab9",
   "metadata": {},
   "outputs": [],
   "source": []
  },
  {
   "cell_type": "code",
   "execution_count": null,
   "id": "c7678aa6-a9f0-472b-b2b6-087505ca2447",
   "metadata": {},
   "outputs": [],
   "source": [
    "Q14"
   ]
  },
  {
   "cell_type": "code",
   "execution_count": null,
   "id": "f6b9fed2-4f03-4c7b-afad-e5901bab54d3",
   "metadata": {},
   "outputs": [],
   "source": [
    "Memory management in Python is handled automatically by the Python interpreter, known as the garbage collector. \n",
    "It keeps track of all the objects in a program and periodically frees up memory that is no longer being used. \n",
    "This helps to ensure that memory is used efficiently and that the program does not run out of memory.\n",
    "\n",
    "The process of freeing up memory is called garbage collection. The Python interpreter uses reference counting to\n",
    "determine which objects are no longer being used. An object is considered no longer being used when there are no\n",
    "references to it in the program. The garbage collector then frees up the memory used by that object."
   ]
  },
  {
   "cell_type": "code",
   "execution_count": null,
   "id": "01fd6a97-0b25-40f3-aa79-4f9927e03f4a",
   "metadata": {},
   "outputs": [],
   "source": []
  },
  {
   "cell_type": "code",
   "execution_count": null,
   "id": "a1bedfd5-988b-479f-b006-9650981ff6ec",
   "metadata": {},
   "outputs": [],
   "source": [
    "Q15"
   ]
  },
  {
   "cell_type": "code",
   "execution_count": null,
   "id": "83683552-62f5-491e-a61b-50112baa3be1",
   "metadata": {},
   "outputs": [],
   "source": [
    "To install Python on your system, you can download the latest version from the official Python website\n",
    "(https://www.python.org/downloads/). After downloading, run the installer to install Python on your system.\n",
    "\n",
    "Setting the PATH variable in Python allows you to run Python from any directory on your system. Here's how \n",
    "to set the PATH variable in Windows:\n",
    "\n",
    "Open the Start menu and search for \"Environment Variables\".\n",
    "\n",
    "Click on \"Edit the system environment variables\".\n",
    "\n",
    "In the System Properties window, click on the \"Environment Variables\" button.\n",
    "\n",
    "In the Environment Variables window, scroll down until you see the \"System Variables\" section.\n",
    "\n",
    "Find the \"Path\" variable and click on the \"Edit\" button.\n",
    "\n",
    "In the Edit environment variable window, click on the \"New\" button and add the location of the Python executable\n",
    "file. On most systems, this is \"C:\\PythonXX\\Python.exe\", where XX is the version number of Python you have \n",
    "installed.\n",
    "\n",
    "Close all windows and restart your computer to activate the changes."
   ]
  },
  {
   "cell_type": "code",
   "execution_count": null,
   "id": "42005916-77e4-4f9b-ba6f-12f51fb4c7c1",
   "metadata": {},
   "outputs": [],
   "source": []
  },
  {
   "cell_type": "code",
   "execution_count": null,
   "id": "659f5fed-9e44-408b-a3a1-d5931dac4931",
   "metadata": {},
   "outputs": [],
   "source": [
    "Q16"
   ]
  },
  {
   "cell_type": "code",
   "execution_count": null,
   "id": "89324c81-6112-49ea-b8cb-17c29ce1c870",
   "metadata": {},
   "outputs": [],
   "source": [
    "Yes, indentation is an important part of the syntax in Python. Unlike other programming languages, where \n",
    "braces or keywords are used to define blocks of code, in Python, indentation is used to define code blocks.\n",
    "For example, the body of a for loop, if statement, or function is defined by the indented code following it.\n",
    "\n",
    "Indentation levels must be consistent throughout a block of code, and it is common to use four spaces to \n",
    "indicate one level of indentation. In other words, all lines of code within a block should start with the \n",
    "same number of spaces, and a new block of code is indicated by increasing the indentation level."
   ]
  }
 ],
 "metadata": {
  "kernelspec": {
   "display_name": "Python 3 (ipykernel)",
   "language": "python",
   "name": "python3"
  },
  "language_info": {
   "codemirror_mode": {
    "name": "ipython",
    "version": 3
   },
   "file_extension": ".py",
   "mimetype": "text/x-python",
   "name": "python",
   "nbconvert_exporter": "python",
   "pygments_lexer": "ipython3",
   "version": "3.10.8"
  }
 },
 "nbformat": 4,
 "nbformat_minor": 5
}
