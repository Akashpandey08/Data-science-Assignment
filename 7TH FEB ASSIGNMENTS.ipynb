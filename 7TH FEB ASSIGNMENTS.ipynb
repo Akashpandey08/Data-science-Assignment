{
 "cells": [
  {
   "cell_type": "code",
   "execution_count": 1,
   "id": "ad4bb65a-a68c-4bec-8fb6-94b71d102908",
   "metadata": {},
   "outputs": [],
   "source": [
    "                    ##QUESTION 1 \n",
    "\n",
    "import re\n",
    "\n",
    "def check_password(password):\n",
    "    # Check the length of the password\n",
    "    if len(password) != 10:\n",
    "        return \"Invalid Password\"\n",
    "    # Check for at least two uppercase letters\n",
    "    upper_letter_check = re.search(r'[A-Z]{2,}', password)\n",
    "    if not upper_letter_check:\n",
    "        return \"Invalid Password\"\n",
    "    # Check for at least two lowercase letters\n",
    "    lower_letter_check = re.search(r'[a-z]{2,}', password)\n",
    "    if not lower_letter_check:\n",
    "        return \"Invalid Password\"\n",
    "    # Check for at least one number\n",
    "    number_check = re.search(r'\\d', password)\n",
    "    if not number_check:\n",
    "        return \"Invalid Password\"\n",
    "    # Check for at least three special characters\n",
    "    special_char_check = re.search(r'[!@#$%^&*(),.?\":{}|<>]{3,}', password)\n",
    "    if not special_char_check:\n",
    "        return \"Invalid Password\"\n",
    "    # If all checks pass, return \"Valid Password\"\n",
    "    return \"Valid Password\"\n"
   ]
  },
  {
   "cell_type": "code",
   "execution_count": null,
   "id": "1b25cd7c-8788-457a-84de-4f276f6a5bb8",
   "metadata": {},
   "outputs": [],
   "source": []
  },
  {
   "cell_type": "code",
   "execution_count": null,
   "id": "f3061536-c04b-487b-b659-4139062971ea",
   "metadata": {},
   "outputs": [],
   "source": [
    "### QUESTION 2 "
   ]
  },
  {
   "cell_type": "code",
   "execution_count": null,
   "id": "d780fad8-7c6a-446f-a43a-c8d54884837c",
   "metadata": {},
   "outputs": [],
   "source": []
  },
  {
   "cell_type": "code",
   "execution_count": 2,
   "id": "a7a989cc-ec7a-4d96-8895-08951eed8f50",
   "metadata": {},
   "outputs": [
    {
     "name": "stdout",
     "output_type": "stream",
     "text": [
      "['banana']\n"
     ]
    }
   ],
   "source": [
    "string_list = [\"apple\", \"banana\", \"cherry\"]\n",
    "\n",
    "# Using filter function\n",
    "result = list(filter(lambda x: x.startswith(\"b\"), string_list))\n",
    "print(result) # Output: [\"banana\"]\n"
   ]
  },
  {
   "cell_type": "code",
   "execution_count": 3,
   "id": "e4128d51-30d1-4b01-9cc4-062e6053b401",
   "metadata": {},
   "outputs": [
    {
     "name": "stdout",
     "output_type": "stream",
     "text": [
      "['123', '456']\n"
     ]
    }
   ],
   "source": [
    "string_list = [\"123\", \"456\", \"apple\"]\n",
    "\n",
    "# Using filter function\n",
    "result = list(filter(lambda x: x.isnumeric(), string_list))\n",
    "print(result) \n"
   ]
  },
  {
   "cell_type": "code",
   "execution_count": 4,
   "id": "82b609d5-c3f9-41fe-a0c9-436f01584d41",
   "metadata": {},
   "outputs": [
    {
     "name": "stdout",
     "output_type": "stream",
     "text": [
      "[('orange', 80), ('mango', 99), ('grapes', 1000)]\n"
     ]
    }
   ],
   "source": [
    "fruits = [(\"mango\", 99), (\"orange\", 80), (\"grapes\", 1000)]\n",
    "\n",
    "# Using lambda function\n",
    "sorted_fruits = sorted(fruits, key=lambda x: x[1])\n",
    "print(sorted_fruits) \n"
   ]
  },
  {
   "cell_type": "code",
   "execution_count": 5,
   "id": "f09969a7-98b4-433a-9e49-b2801a607767",
   "metadata": {},
   "outputs": [
    {
     "name": "stdout",
     "output_type": "stream",
     "text": [
      "[1, 4, 9, 16, 25, 36, 49, 64, 81, 100]\n"
     ]
    }
   ],
   "source": [
    "# Using list comprehension\n",
    "squared_numbers = [x**2 for x in range(1, 11)]\n",
    "print(squared_numbers) \n"
   ]
  },
  {
   "cell_type": "code",
   "execution_count": 7,
   "id": "9be3915d-ad3d-4540-9720-a87c17ebfb60",
   "metadata": {},
   "outputs": [],
   "source": [
    "import math\n",
    "\n",
    "# Using list comprehension\n",
    "cube_root_numbers = [math.pow(x, 1/3) for x in range(1, 11)]\n",
    "print(cube_root_numbers)\n"
   ]
  },
  {
   "cell_type": "code",
   "execution_count": 8,
   "id": "3ed269d9-eebb-4a69-a05f-42b1621b5fc9",
   "metadata": {},
   "outputs": [
    {
     "name": "stdout",
     "output_type": "stream",
     "text": [
      "True\n"
     ]
    }
   ],
   "source": [
    "number = 4\n",
    "\n",
    "# Using lambda function\n",
    "result = (lambda x: x % 2 == 0)(number)\n",
    "print(result)\n"
   ]
  },
  {
   "cell_type": "code",
   "execution_count": 9,
   "id": "7118df79-4b78-4205-abbf-472ad9dc616d",
   "metadata": {},
   "outputs": [
    {
     "name": "stdout",
     "output_type": "stream",
     "text": [
      "[1, 3, 5, 7, 9]\n"
     ]
    }
   ],
   "source": [
    "numbers = [1, 2, 3, 4, 5, 6, 7, 8, 9, 10]\n",
    "\n",
    "# Using filter function\n",
    "odd_numbers = list(filter(lambda x: x % 2 != 0, numbers))\n",
    "print(odd_numbers) \n"
   ]
  },
  {
   "cell_type": "code",
   "execution_count": 10,
   "id": "f18ef1e7-5ea4-473a-ad44-9ee02bff46e1",
   "metadata": {},
   "outputs": [
    {
     "name": "stdout",
     "output_type": "stream",
     "text": [
      "Positive numbers: [1, 2, 3, 4, 5, 6]\n"
     ]
    }
   ],
   "source": [
    "numbers = [1, 2, 3, 4, 5, 6, -1, -2, -3, -4, -5, 0]\n",
    "\n",
    "# Using list comprehension\n",
    "positive_numbers = [x for x in numbers if x > 0]\n",
    "negative_numbers = [x for x in numbers if x < 0]\n",
    "print(\"Positive numbers:\", positive_numbers) \n"
   ]
  },
  {
   "cell_type": "code",
   "execution_count": null,
   "id": "95e71f33-ded0-4df1-965c-9143f27608f3",
   "metadata": {},
   "outputs": [],
   "source": []
  }
 ],
 "metadata": {
  "kernelspec": {
   "display_name": "Python 3 (ipykernel)",
   "language": "python",
   "name": "python3"
  },
  "language_info": {
   "codemirror_mode": {
    "name": "ipython",
    "version": 3
   },
   "file_extension": ".py",
   "mimetype": "text/x-python",
   "name": "python",
   "nbconvert_exporter": "python",
   "pygments_lexer": "ipython3",
   "version": "3.10.8"
  }
 },
 "nbformat": 4,
 "nbformat_minor": 5
}
