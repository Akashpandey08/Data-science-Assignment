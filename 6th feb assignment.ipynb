{
 "cells": [
  {
   "cell_type": "code",
   "execution_count": 19,
   "id": "a680e58e-269d-4816-9412-4de5fee8a2b7",
   "metadata": {},
   "outputs": [],
   "source": [
    "            #Question 1 \n",
    "\n",
    "\n",
    "from typing import List\n",
    "\n",
    "def flat_list_product(lst: List):\n",
    "    flat_list = []\n",
    "    for item in lst:\n",
    "        if isinstance(item, int) or isinstance(item, float):\n",
    "            flat_list.append(item)\n",
    "        elif isinstance(item, list):\n",
    "            flat_list.extend(flat_list_product(item))\n",
    "        elif isinstance(item, tuple):\n",
    "            flat_list.extend(flat_list_product(list(item)))\n",
    "        elif isinstance(item, dict):\n",
    "            for key, value in item.items():\n",
    "                if isinstance(key, int) or isinstance(key, float):\n",
    "                    flat_list.append(key)\n",
    "                if isinstance(value, int) or isinstance(value, float):\n",
    "                    flat_list.append(value)\n",
    "                elif isinstance(value, list) or isinstance(value, tuple) or isinstance(value, dict):\n",
    "                    flat_list.extend(flat_list_product(value))\n",
    "    return flat_list\n",
    "\n",
    "def product_of_numbers(lst: List):\n",
    "    flat_list = flat_list_product(lst)\n",
    "    product = 1\n",
    "    for item in flat_list:\n",
    "        product *= item\n",
    "    return product\n",
    "\n",
    "# test the function\n",
    "list1 = [1,2,3,4, [44,55,66, True], False, (34,56,78,89,34), {1,2,3,3,2,1}, {1:34, \"key2\": [55, 67, 78, 89], 4: (45, 22, 61, 34)}, [56, 'data science'], 'Machine Learning']\n",
    "result = product_of_numbers(list1)\n",
    "print(result)\n"
   ]
  },
  {
   "cell_type": "code",
   "execution_count": null,
   "id": "48f8a395-f0c6-48a0-91a2-f0eadfd78636",
   "metadata": {},
   "outputs": [],
   "source": [
    "            #question 2 "
   ]
  },
  {
   "cell_type": "code",
   "execution_count": 15,
   "id": "b8803235-3190-4e8a-9749-402a72d6753f",
   "metadata": {},
   "outputs": [
    {
     "name": "stdout",
     "output_type": "stream",
     "text": [
      "r$dzmg$gl$yvxlnv$z$wzgz$hxrvmgrhg.\n"
     ]
    }
   ],
   "source": [
    "def encrypt_message(message):\n",
    "    encryption_key = {'a': 'z', 'b': 'y', 'c': 'x', 'd': 'w', 'e': 'v', 'f': 'u', 'g': 't', 'h': 's', 'i': 'r', 'j': 'q', 'k': 'p', 'l': 'o', 'm': 'n', 'n': 'm', 'o': 'l', 'p': 'k', 'q': 'j', 'r': 'i', 's': 'h', 't': 'g', 'u': 'f', 'v': 'e', 'w': 'd', 'x': 'c', 'y': 'b', 'z': 'a', ' ': '$'}\n",
    "    encrypted_message = \"\"\n",
    "    message = message.lower()\n",
    "    for char in message:\n",
    "        if char in encryption_key:\n",
    "            encrypted_message += encryption_key[char]\n",
    "        else:\n",
    "            encrypted_message += char\n",
    "    return encrypted_message\n",
    "\n",
    "# test the function\n",
    "message = \"I want to become a Data Scientist.\"\n",
    "encrypted_message = encrypt_message(message)\n",
    "print(encrypted_message)\n",
    "\n"
   ]
  }
 ],
 "metadata": {
  "kernelspec": {
   "display_name": "Python 3 (ipykernel)",
   "language": "python",
   "name": "python3"
  },
  "language_info": {
   "codemirror_mode": {
    "name": "ipython",
    "version": 3
   },
   "file_extension": ".py",
   "mimetype": "text/x-python",
   "name": "python",
   "nbconvert_exporter": "python",
   "pygments_lexer": "ipython3",
   "version": "3.10.8"
  }
 },
 "nbformat": 4,
 "nbformat_minor": 5
}
