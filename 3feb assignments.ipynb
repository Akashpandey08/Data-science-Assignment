{
 "cells": [
  {
   "cell_type": "code",
   "execution_count": null,
   "id": "a95d9b7d-72d5-4ddc-978e-e798caf8eebd",
   "metadata": {},
   "outputs": [],
   "source": [
    "q1 ANSWERS "
   ]
  },
  {
   "cell_type": "code",
   "execution_count": 1,
   "id": "7f38afdd-2c30-425f-9b43-d3597b816bed",
   "metadata": {},
   "outputs": [
    {
     "name": "stdout",
     "output_type": "stream",
     "text": [
      "[1, 3, 5, 7, 9, 11, 13, 15, 17, 19, 21, 23, 25]\n"
     ]
    }
   ],
   "source": [
    "##The def keyword is used to create a function\n",
    "\n",
    "def get_odd_numbers():\n",
    "    odd_numbers = []\n",
    "    for i in range(1, 26):\n",
    "        if i % 2 != 0:\n",
    "            odd_numbers.append(i)\n",
    "    return odd_numbers\n",
    "\n",
    "odd_numbers = get_odd_numbers()\n",
    "print(odd_numbers)\n"
   ]
  },
  {
   "cell_type": "code",
   "execution_count": null,
   "id": "de29c82e-c6b2-4968-b4a7-d9e3ef1a3e3c",
   "metadata": {},
   "outputs": [],
   "source": [
    "Q2 ANSWERS "
   ]
  },
  {
   "cell_type": "code",
   "execution_count": null,
   "id": "8df5b570-4938-4868-8725-27183b8e0bb5",
   "metadata": {},
   "outputs": [],
   "source": [
    "*args and **kwargs are used in functions to allow a variable number of arguments to be passed to the function.\n",
    "\n",
    "*args allows a variable number of non-keyword arguments to be passed to the function. The * symbol is used to pass a variable number of arguments to the function, and the name args is just a conventional name and can be replaced with any other name.\n",
    "\n",
    "**kwargs allows a variable number of keyword arguments to be passed to the function. The ** symbol is used to pass a variable number of keyword arguments to the function, and the name kwargs is just a conventional name and can be replaced with any other name."
   ]
  },
  {
   "cell_type": "code",
   "execution_count": 2,
   "id": "c4ad7d9e-82f2-4336-89c7-710cb3fa68e1",
   "metadata": {},
   "outputs": [
    {
     "name": "stdout",
     "output_type": "stream",
     "text": [
      "15\n",
      "name: John\n",
      "age: 30\n",
      "city: New York\n"
     ]
    }
   ],
   "source": [
    "def add(*args):\n",
    "    sum = 0\n",
    "    for arg in args:\n",
    "        sum += arg\n",
    "    return sum\n",
    "\n",
    "result = add(1, 2, 3, 4, 5)\n",
    "print(result)\n",
    "\n",
    "def print_kwargs(**kwargs):\n",
    "    for key, value in kwargs.items():\n",
    "        print(f\"{key}: {value}\")\n",
    "\n",
    "print_kwargs(name=\"John\", age=30, city=\"New York\")\n"
   ]
  },
  {
   "cell_type": "code",
   "execution_count": null,
   "id": "8fc34af8-8113-4dd4-ad21-99ae795fbcd7",
   "metadata": {},
   "outputs": [],
   "source": []
  },
  {
   "cell_type": "code",
   "execution_count": null,
   "id": "75867719-53a4-4454-82e8-a3b222af7a24",
   "metadata": {},
   "outputs": [],
   "source": [
    "Q3 ANSWERS "
   ]
  },
  {
   "cell_type": "code",
   "execution_count": null,
   "id": "063b01c6-87fb-4b2c-9b47-7e0a39b6ec1c",
   "metadata": {},
   "outputs": [],
   "source": [
    "Iterator in Python is an object that is used to iterate over iterable objects like lists, tuples, dicts, and sets. The iterator object is initialized using the iter() method. It uses the next() method for iteration. __next__(): The next method returns the next value for the iterable."
   ]
  },
  {
   "cell_type": "code",
   "execution_count": 3,
   "id": "8fecdbfb-753d-4fdf-a848-b6dda0c8f71e",
   "metadata": {},
   "outputs": [
    {
     "name": "stdout",
     "output_type": "stream",
     "text": [
      "2\n",
      "4\n",
      "6\n",
      "8\n",
      "10\n"
     ]
    }
   ],
   "source": [
    "##In Python, the __iter__ method is used to initialize the iterator object, and the __next__ method is used for iteration.\n",
    "\n",
    "class IterateList:\n",
    "    def __init__(self, data):\n",
    "        self.data = data\n",
    "        self.index = 0\n",
    "\n",
    "    def __iter__(self):\n",
    "        return self\n",
    "\n",
    "    def __next__(self):\n",
    "        if self.index < len(self.data):\n",
    "            value = self.data[self.index]\n",
    "            self.index += 1\n",
    "            return value\n",
    "        else:\n",
    "            raise StopIteration\n",
    "\n",
    "numbers = [2, 4, 6, 8, 10, 12, 14, 16, 18, 20]\n",
    "iterator = IterateList(numbers)\n",
    "\n",
    "for i in range(5):\n",
    "    print(next(iterator))\n"
   ]
  },
  {
   "cell_type": "code",
   "execution_count": null,
   "id": "62485a79-41c4-49e0-890b-f624708cbe97",
   "metadata": {},
   "outputs": [],
   "source": []
  },
  {
   "cell_type": "code",
   "execution_count": null,
   "id": "7801bdc7-9c12-4437-b479-e6825665cd89",
   "metadata": {},
   "outputs": [],
   "source": [
    "Q4 ANSWERS"
   ]
  },
  {
   "cell_type": "code",
   "execution_count": null,
   "id": "a4ba3476-b421-4d69-9595-ef49ee0c9e3a",
   "metadata": {},
   "outputs": [],
   "source": [
    "Python Generator functions allow you to declare a function that behaves likes an iterator, allowing programmers to make an iterator in a fast, easy, and clean way.\n",
    "The yield keyword is used in Python to create generator functions. Unlike normal functions, generator functions do not return a value when they are called. Instead, they return a generator object, which can be iterated over to produce a sequence of values.\n",
    "\n",
    "The yield keyword is used within a generator function to produce a value and temporarily pause the function's execution. When the generator is resumed, the function continues executing from where it left off, until it encounters the next yield statement or reaches the end of the function."
   ]
  },
  {
   "cell_type": "code",
   "execution_count": 4,
   "id": "2f7f3d0f-2800-4b51-9432-de1d37afc63c",
   "metadata": {},
   "outputs": [
    {
     "name": "stdout",
     "output_type": "stream",
     "text": [
      "1\n",
      "4\n",
      "9\n",
      "16\n",
      "25\n",
      "36\n",
      "49\n",
      "64\n",
      "81\n",
      "100\n"
     ]
    }
   ],
   "source": [
    "def squares(start, stop):\n",
    "    for i in range(start, stop):\n",
    "        yield i ** 2\n",
    "\n",
    "for square in squares(1, 11):\n",
    "    print(square)\n"
   ]
  },
  {
   "cell_type": "code",
   "execution_count": null,
   "id": "bb743310-1a6f-4802-8cc4-6b7d8ed1f00c",
   "metadata": {},
   "outputs": [],
   "source": []
  },
  {
   "cell_type": "code",
   "execution_count": null,
   "id": "8ee4800f-121d-4613-bfeb-0ddd620a37cc",
   "metadata": {},
   "outputs": [],
   "source": [
    "Q5 ANSWERS "
   ]
  },
  {
   "cell_type": "code",
   "execution_count": 5,
   "id": "7f3b4f02-da8f-4cc8-9fe1-fba5c138402a",
   "metadata": {},
   "outputs": [
    {
     "name": "stdout",
     "output_type": "stream",
     "text": [
      "2\n",
      "3\n",
      "5\n",
      "7\n",
      "11\n",
      "13\n",
      "17\n",
      "19\n",
      "23\n",
      "29\n",
      "31\n",
      "37\n",
      "41\n",
      "43\n",
      "47\n",
      "53\n",
      "59\n",
      "61\n",
      "67\n",
      "71\n"
     ]
    }
   ],
   "source": [
    "def primes():\n",
    "    yield 2\n",
    "    primes = [2]\n",
    "    candidate = 3\n",
    "    while candidate < 1000:\n",
    "        is_prime = True\n",
    "        for prime in primes:\n",
    "            if candidate % prime == 0:\n",
    "                is_prime = False\n",
    "                break\n",
    "        if is_prime:\n",
    "            primes.append(candidate)\n",
    "            yield candidate\n",
    "        candidate += 2\n",
    "\n",
    "prime_gen = primes()\n",
    "for i in range(20):\n",
    "    print(next(prime_gen))\n"
   ]
  },
  {
   "cell_type": "code",
   "execution_count": null,
   "id": "154feeee-d80b-4f47-9846-c4b67ae6f0e6",
   "metadata": {},
   "outputs": [],
   "source": []
  },
  {
   "cell_type": "code",
   "execution_count": null,
   "id": "a5b9d479-3741-4e41-af3f-b57ff25ef540",
   "metadata": {},
   "outputs": [],
   "source": [
    "Q6 ANSWERS "
   ]
  },
  {
   "cell_type": "code",
   "execution_count": 6,
   "id": "91671b1c-e518-48bc-942f-a332936a4a5f",
   "metadata": {},
   "outputs": [
    {
     "name": "stdout",
     "output_type": "stream",
     "text": [
      "0\n",
      "1\n",
      "1\n",
      "2\n",
      "3\n",
      "5\n",
      "8\n",
      "13\n",
      "21\n",
      "34\n"
     ]
    }
   ],
   "source": [
    "def fibonacci_numbers(n):\n",
    "    a, b = 0, 1\n",
    "    count = 0\n",
    "    while count < n:\n",
    "        print(a)\n",
    "        a, b = b, a + b\n",
    "        count += 1\n",
    "\n",
    "fibonacci_numbers(10)\n"
   ]
  },
  {
   "cell_type": "code",
   "execution_count": null,
   "id": "01ef3e1a-f580-4da0-a3ee-e9bbd2d4dbb2",
   "metadata": {},
   "outputs": [],
   "source": []
  },
  {
   "cell_type": "code",
   "execution_count": null,
   "id": "62f7ef17-08e7-4387-af2c-759b36605b33",
   "metadata": {},
   "outputs": [],
   "source": [
    "Q7 ANSWERS"
   ]
  },
  {
   "cell_type": "code",
   "execution_count": 7,
   "id": "2fe82333-8e58-4bf5-9052-026b11c0c4a9",
   "metadata": {},
   "outputs": [
    {
     "name": "stdout",
     "output_type": "stream",
     "text": [
      "['p', 'w', 's', 'k', 'i', 'l', 'l', 's']\n"
     ]
    }
   ],
   "source": [
    "string = \"pwskills\"\n",
    "characters = [char for char in string]\n",
    "print(characters)\n"
   ]
  },
  {
   "cell_type": "code",
   "execution_count": null,
   "id": "31149d0a-5911-499a-a188-a53355bb1126",
   "metadata": {},
   "outputs": [],
   "source": []
  },
  {
   "cell_type": "code",
   "execution_count": null,
   "id": "e1dbfbef-5f3b-4935-a9ab-80889c085b67",
   "metadata": {},
   "outputs": [],
   "source": [
    "Q8 ANSWERS "
   ]
  },
  {
   "cell_type": "code",
   "execution_count": 9,
   "id": "cafc08f9-d8b1-4f82-9c39-33e185302a19",
   "metadata": {},
   "outputs": [
    {
     "name": "stdin",
     "output_type": "stream",
     "text": [
      "Enter a number:  141\n"
     ]
    },
    {
     "name": "stdout",
     "output_type": "stream",
     "text": [
      "141 is a palindrome.\n"
     ]
    }
   ],
   "source": [
    "def is_palindrome(number):\n",
    "    original_number = number\n",
    "    reversed_number = 0\n",
    "    while number > 0:\n",
    "        last_digit = number % 10\n",
    "        reversed_number = (reversed_number * 10) + last_digit\n",
    "        number //= 10\n",
    "    return original_number == reversed_number\n",
    "\n",
    "number = int(input(\"Enter a number: \"))\n",
    "if is_palindrome(number):\n",
    "    print(f\"{number} is a palindrome.\")\n",
    "else:\n",
    "    print(f\"{number} is not a palindrome.\")\n"
   ]
  },
  {
   "cell_type": "code",
   "execution_count": null,
   "id": "328b752f-d2b6-4ea3-9bc7-d42cf4ffe132",
   "metadata": {},
   "outputs": [],
   "source": []
  },
  {
   "cell_type": "code",
   "execution_count": null,
   "id": "5dbbf389-3baa-40d4-bb3e-17e44e473dda",
   "metadata": {},
   "outputs": [],
   "source": [
    "Q9 ANSWERS "
   ]
  },
  {
   "cell_type": "code",
   "execution_count": 10,
   "id": "e8374a3e-ad25-43a0-8742-ee09ba3da741",
   "metadata": {},
   "outputs": [
    {
     "name": "stdout",
     "output_type": "stream",
     "text": [
      "[1, 3, 5, 7, 9, 11, 13, 15, 17, 19, 21, 23, 25, 27, 29, 31, 33, 35, 37, 39, 41, 43, 45, 47, 49, 51, 53, 55, 57, 59, 61, 63, 65, 67, 69, 71, 73, 75, 77, 79, 81, 83, 85, 87, 89, 91, 93, 95, 97, 99]\n"
     ]
    }
   ],
   "source": [
    "odd_numbers = [number for number in range(1,101) if number%2 != 0]\n",
    "print(odd_numbers)\n"
   ]
  },
  {
   "cell_type": "code",
   "execution_count": null,
   "id": "e926fecc-de9c-4769-9f32-95dd8b34266d",
   "metadata": {},
   "outputs": [],
   "source": []
  }
 ],
 "metadata": {
  "kernelspec": {
   "display_name": "Python 3 (ipykernel)",
   "language": "python",
   "name": "python3"
  },
  "language_info": {
   "codemirror_mode": {
    "name": "ipython",
    "version": 3
   },
   "file_extension": ".py",
   "mimetype": "text/x-python",
   "name": "python",
   "nbconvert_exporter": "python",
   "pygments_lexer": "ipython3",
   "version": "3.10.8"
  }
 },
 "nbformat": 4,
 "nbformat_minor": 5
}
