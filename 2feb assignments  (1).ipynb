{
 "cells": [
  {
   "cell_type": "code",
   "execution_count": null,
   "id": "1ffc329a-f9f9-43f8-9402-73a565c45998",
   "metadata": {},
   "outputs": [],
   "source": [
    " 1 ANSWER "
   ]
  },
  {
   "cell_type": "code",
   "execution_count": null,
   "id": "18efd671-0053-43c8-b35d-127902bcacda",
   "metadata": {},
   "outputs": [],
   "source": []
  },
  {
   "cell_type": "code",
   "execution_count": null,
   "id": "43dc4941-6e80-4b9f-9b53-4c0dd0d7a3b4",
   "metadata": {},
   "outputs": [],
   "source": [
    "A for loop is used when you want to execute a block of code a specific number of times. For example, you can use a for loop to iterate over a list of items and print each item:"
   ]
  },
  {
   "cell_type": "code",
   "execution_count": 2,
   "id": "a7b3e415-91f9-4aa0-a62f-23fee8df681d",
   "metadata": {},
   "outputs": [
    {
     "name": "stdout",
     "output_type": "stream",
     "text": [
      "apple\n",
      "banana\n",
      "cherry\n"
     ]
    }
   ],
   "source": [
    "fruits = [\"apple\", \"banana\", \"cherry\"]\n",
    "for fruit in fruits:\n",
    "    print(fruit)\n"
   ]
  },
  {
   "cell_type": "code",
   "execution_count": null,
   "id": "e8451ba9-d931-4e44-9736-898f971d7971",
   "metadata": {},
   "outputs": [],
   "source": [
    "a while loop is used when you want to execute a block of code as long as a certain condition is met. For example, you can use a while loop to print the numbers from 1 to 10:"
   ]
  },
  {
   "cell_type": "code",
   "execution_count": 3,
   "id": "7b58c50e-ea0b-4018-a17b-08a661d59613",
   "metadata": {},
   "outputs": [
    {
     "name": "stdout",
     "output_type": "stream",
     "text": [
      "1\n",
      "2\n",
      "3\n",
      "4\n",
      "5\n",
      "6\n",
      "7\n",
      "8\n",
      "9\n",
      "10\n"
     ]
    }
   ],
   "source": [
    "i = 1\n",
    "while i <= 10:\n",
    "    print(i)\n",
    "    i = i + 1\n"
   ]
  },
  {
   "cell_type": "code",
   "execution_count": null,
   "id": "2a165c96-90a7-4a36-9ef3-1afefb2b7367",
   "metadata": {},
   "outputs": [],
   "source": [
    "Question 2 ANSWER "
   ]
  },
  {
   "cell_type": "code",
   "execution_count": null,
   "id": "34abf371-c015-4c34-99a0-0fdb961af2db",
   "metadata": {},
   "outputs": [],
   "source": []
  },
  {
   "cell_type": "code",
   "execution_count": null,
   "id": "ab47573d-cef2-4790-acf9-46a35e57cb6c",
   "metadata": {},
   "outputs": [],
   "source": [
    "Using for loop:"
   ]
  },
  {
   "cell_type": "code",
   "execution_count": 4,
   "id": "5547b5a7-8ca3-4916-bda3-77fcedcf0265",
   "metadata": {},
   "outputs": [
    {
     "name": "stdout",
     "output_type": "stream",
     "text": [
      "Sum of first 10 natural numbers: 55\n",
      "Product of first 10 natural numbers: 3628800\n"
     ]
    }
   ],
   "source": [
    "sum = 0\n",
    "product = 1\n",
    "for i in range(1, 11):\n",
    "    sum += i\n",
    "    product *= i\n",
    "print(\"Sum of first 10 natural numbers:\", sum)\n",
    "print(\"Product of first 10 natural numbers:\", product)\n"
   ]
  },
  {
   "cell_type": "code",
   "execution_count": null,
   "id": "17903355-227f-478e-ad37-98660a3878dd",
   "metadata": {},
   "outputs": [],
   "source": [
    "Using while loop:"
   ]
  },
  {
   "cell_type": "code",
   "execution_count": 5,
   "id": "4d1a5077-9738-402f-9ecd-ef13ac392d14",
   "metadata": {},
   "outputs": [
    {
     "name": "stdout",
     "output_type": "stream",
     "text": [
      "Sum of first 10 natural numbers: 55\n",
      "Product of first 10 natural numbers: 3628800\n"
     ]
    }
   ],
   "source": [
    "sum = 0\n",
    "product = 1\n",
    "i = 1\n",
    "while i <= 10:\n",
    "    sum += i\n",
    "    product *= i\n",
    "    i += 1\n",
    "print(\"Sum of first 10 natural numbers:\", sum)\n",
    "print(\"Product of first 10 natural numbers:\", product)\n"
   ]
  },
  {
   "cell_type": "code",
   "execution_count": null,
   "id": "47f34c2b-7409-4c2c-a854-35ec742ae70e",
   "metadata": {},
   "outputs": [],
   "source": []
  },
  {
   "cell_type": "code",
   "execution_count": null,
   "id": "2c7fb7b3-d95d-4575-b02c-e9bab6e531bf",
   "metadata": {},
   "outputs": [],
   "source": [
    "Question 3 ANSWER"
   ]
  },
  {
   "cell_type": "code",
   "execution_count": 6,
   "id": "a7e45da9-a904-4351-b391-51d85ddc0fb2",
   "metadata": {},
   "outputs": [
    {
     "name": "stdin",
     "output_type": "stream",
     "text": [
      "Enter the number of units consumed:  310\n"
     ]
    },
    {
     "name": "stdout",
     "output_type": "stream",
     "text": [
      "The total electricity bill is: 2250.0\n",
      "Cubes using for loop: [8, 64, 125, 216, 512, 1000, 1728, 2744, 3375, 4096, 5832, 8000, 10648, 13824, 15625, 17576, 21952, 27000, 32768, 39304, 42875, 46656, 54872, 64000, 74088, 85184, 91125, 97336, 110592, 125000, 140608, 157464, 166375, 175616, 195112, 216000, 238328, 262144, 274625, 287496, 314432, 343000, 373248, 405224, 421875, 438976, 474552, 512000, 551368, 592704, 614125, 636056, 681472, 729000, 778688, 830584, 857375, 884736, 941192, 1000000]\n",
      "Cubes using while loop: [8, 64, 125, 216, 512, 1000, 1728, 2744, 3375, 4096, 5832, 8000, 10648, 13824, 15625, 17576, 21952, 27000, 32768, 39304, 42875, 46656, 54872, 64000, 74088, 85184, 91125, 97336, 110592, 125000, 140608, 157464, 166375, 175616, 195112, 216000, 238328, 262144, 274625, 287496, 314432, 343000, 373248, 405224, 421875, 438976, 474552, 512000, 551368, 592704, 614125, 636056, 681472, 729000, 778688, 830584, 857375, 884736, 941192, 1000000]\n"
     ]
    }
   ],
   "source": [
    "def electricity_bill(units):\n",
    "    bill = 0\n",
    "    if units <= 100:\n",
    "        bill = units * 4.5\n",
    "    elif units <= 200:\n",
    "        bill = (100 * 4.5) + ((units - 100) * 6)\n",
    "    elif units <= 300:\n",
    "        bill = (100 * 4.5) + (100 * 6) + ((units - 200) * 10)\n",
    "    else:\n",
    "        bill = (100 * 4.5) + (100 * 6) + (100 * 10) + ((units - 300) * 20)\n",
    "    return bill\n",
    "\n",
    "\n",
    "units = int(input(\"Enter the number of units consumed: \"))\n",
    "total_bill = electricity_bill(units)\n",
    "print(\"The total electricity bill is:\", total_bill)\n",
    "assert electricity_bill(310) == 2250\n",
    "cubes_for = []\n",
    "for i in range(1, 101):\n",
    "    cube = i**3\n",
    "    if cube % 4 == 0 or cube % 5 == 0:\n",
    "        cubes_for.append(cube)\n",
    "\n",
    "print(\"Cubes using for loop:\", cubes_for)\n",
    "cubes_while = []\n",
    "i = 1\n",
    "while i <= 100:\n",
    "    cube = i**3\n",
    "    if cube % 4 == 0 or cube % 5 == 0:\n",
    "        cubes_while.append(cube)\n",
    "    i += 1\n",
    "\n",
    "print(\"Cubes using while loop:\", cubes_while)\n"
   ]
  },
  {
   "cell_type": "code",
   "execution_count": null,
   "id": "a79b79a1-9772-4f3f-997c-808ede55c9a2",
   "metadata": {},
   "outputs": [],
   "source": []
  },
  {
   "cell_type": "code",
   "execution_count": null,
   "id": "72a4ab70-9925-4691-bc4a-c2a00edb0386",
   "metadata": {},
   "outputs": [],
   "source": [
    "Q 4 ANSWER "
   ]
  },
  {
   "cell_type": "code",
   "execution_count": 8,
   "id": "33a764de-8ffa-4e92-b305-6b2f6eabb47b",
   "metadata": {},
   "outputs": [
    {
     "name": "stdout",
     "output_type": "stream",
     "text": [
      "[8, 64, 125, 216, 512, 1000, 1728, 2744, 3375, 4096, 5832, 8000, 10648, 13824, 15625, 17576, 21952, 27000, 32768, 39304, 42875, 46656, 54872, 64000, 74088, 85184, 91125, 97336, 110592, 125000, 140608, 157464, 166375, 175616, 195112, 216000, 238328, 262144, 274625, 287496, 314432, 343000, 373248, 405224, 421875, 438976, 474552, 512000, 551368, 592704, 614125, 636056, 681472, 729000, 778688, 830584, 857375, 884736, 941192, 1000000]\n",
      "[8, 64, 125, 216, 512, 1000, 1728, 2744, 3375, 4096, 5832, 8000, 10648, 13824, 15625, 17576, 21952, 27000, 32768, 39304, 42875, 46656, 54872, 64000, 74088, 85184, 91125, 97336, 110592, 125000, 140608, 157464, 166375, 175616, 195112, 216000, 238328, 262144, 274625, 287496, 314432, 343000, 373248, 405224, 421875, 438976, 474552, 512000, 551368, 592704, 614125, 636056, 681472, 729000, 778688, 830584, 857375, 884736, 941192, 1000000]\n"
     ]
    }
   ],
   "source": [
    "##USING FOR LOOP \n",
    "numbers = list(range(1, 101))\n",
    "result = []\n",
    "for num in numbers:\n",
    "    cube = num**3\n",
    "    if cube % 4 == 0 or cube % 5 == 0:\n",
    "        result.append(cube)\n",
    "print(result)\n",
    "\n",
    "##USING WHILE LOOP \n",
    "\n",
    "numbers = list(range(1, 101))\n",
    "result = []\n",
    "index = 0\n",
    "while index < len(numbers):\n",
    "    num = numbers[index]\n",
    "    cube = num**3\n",
    "    if cube % 4 == 0 or cube % 5 == 0:\n",
    "        result.append(cube)\n",
    "    index += 1\n",
    "print(result)\n",
    "\n"
   ]
  },
  {
   "cell_type": "code",
   "execution_count": null,
   "id": "5d0401bb-0e27-471c-a2ff-6b83aede01ba",
   "metadata": {},
   "outputs": [],
   "source": []
  },
  {
   "cell_type": "code",
   "execution_count": null,
   "id": "70f35c38-b152-4a2c-b827-1804aa08ecda",
   "metadata": {},
   "outputs": [],
   "source": [
    "Q5 ANSWER "
   ]
  },
  {
   "cell_type": "code",
   "execution_count": null,
   "id": "89d6fead-6f58-4cf8-b2ef-ef384f0c7941",
   "metadata": {},
   "outputs": [],
   "source": []
  },
  {
   "cell_type": "code",
   "execution_count": 9,
   "id": "d37f6b89-ab3f-4ceb-845e-f02d070148af",
   "metadata": {},
   "outputs": [
    {
     "name": "stdout",
     "output_type": "stream",
     "text": [
      "Number of vowels: 12\n"
     ]
    }
   ],
   "source": [
    "string = \"I want to become a data scientist\"\n",
    "vowels = \"aeiouAEIOU\"\n",
    "count = 0\n",
    "for char in string:\n",
    "    if char in vowels:\n",
    "        count += 1\n",
    "print(\"Number of vowels:\", count)\n"
   ]
  },
  {
   "cell_type": "code",
   "execution_count": null,
   "id": "6b34700f-ccc1-47f2-ab52-d324f585964d",
   "metadata": {},
   "outputs": [],
   "source": []
  }
 ],
 "metadata": {
  "kernelspec": {
   "display_name": "Python 3 (ipykernel)",
   "language": "python",
   "name": "python3"
  },
  "language_info": {
   "codemirror_mode": {
    "name": "ipython",
    "version": 3
   },
   "file_extension": ".py",
   "mimetype": "text/x-python",
   "name": "python",
   "nbconvert_exporter": "python",
   "pygments_lexer": "ipython3",
   "version": "3.10.8"
  }
 },
 "nbformat": 4,
 "nbformat_minor": 5
}
