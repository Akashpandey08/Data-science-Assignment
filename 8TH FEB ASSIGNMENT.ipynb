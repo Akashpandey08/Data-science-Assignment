{
 "cells": [
  {
   "cell_type": "markdown",
   "id": "bc947e06-3b96-4dc0-97d5-9157082e6c0d",
   "metadata": {},
   "source": [
    "Q1 ANSWER \n",
    "\n",
    "Abstraction is a key concept in object-oriented programming (OOP) that allows developers to focus on the essential features of an object, ignoring any non-essential details. It helps to simplify complex systems by hiding their underlying implementation details and exposing only the essential characteristics and behavior of the objects.\n",
    "\n",
    "For example, consider a car. When we talk about a car, we don't need to know how the engine works or how the transmission system functions. All we care about is the car's ability to start, drive, and stop. These are the essential features of the car, and they are what we want to abstract away from the underlying implementation details.\n",
    "\n",
    "\n",
    "Q2 ANSWER \n",
    "\n",
    "exposing only the essential properties and behavior of the object. It allows us to focus on the key features of an object, without worrying about how those features are implemented.\n",
    "\n",
    "Encapsulation, on the other hand, refers to the bundling of data and functions into a single unit, or object. This bundling of data and functions provides a way to protect the data from outside access and modification, and ensures that the data and functions are used correctly.\n",
    "\n",
    "Here is an example to differentiate between Abstraction and Encapsulation \n",
    "\n"
   ]
  },
  {
   "cell_type": "code",
   "execution_count": 1,
   "id": "6248e29e-2335-4b7d-94c2-fc02c4351a36",
   "metadata": {},
   "outputs": [],
   "source": [
    "class Car:\n",
    "    def __init__(self, make, model, year):\n",
    "        self.make = make\n",
    "        self._model = model\n",
    "        self._year = year\n",
    "\n",
    "    def get_model(self):\n",
    "        return self._model\n",
    "\n",
    "    def get_year(self):\n",
    "        return self._year\n",
    "\n",
    "    def set_model(self, model):\n",
    "        self._model = model\n",
    "\n",
    "    def set_year(self, year):\n",
    "        self._year = year\n"
   ]
  },
  {
   "cell_type": "markdown",
   "id": "863831a9-614e-465f-ab3b-286410aaa542",
   "metadata": {},
   "source": [
    "##QUESTION 3 ANSWER \n",
    "\n",
    "The abc module (abstract base classes) in Python provides a way to define abstract base classes in Python. An abstract base class is a class that cannot be instantiated, but can be used as a base class for other classes. "
   ]
  },
  {
   "cell_type": "code",
   "execution_count": 3,
   "id": "f5d53c0d-c367-4260-b1d0-3d9080a99984",
   "metadata": {},
   "outputs": [],
   "source": [
    "import abc\n",
    "\n",
    "class Shape(metaclass=abc.ABCMeta):\n",
    "    @abc.abstractmethod\n",
    "    def area(self):\n",
    "        pass\n",
    "\n",
    "class Circle(Shape):\n",
    "    def __init__(self, radius):\n",
    "        self.radius = radius\n",
    "\n",
    "    def area(self):\n",
    "        return 3.14 * self.radius * self.radius\n",
    "\n",
    "\n"
   ]
  },
  {
   "cell_type": "code",
   "execution_count": null,
   "id": "6046c42e-3a25-4111-b4e3-2499fe3b943d",
   "metadata": {},
   "outputs": [],
   "source": []
  },
  {
   "cell_type": "code",
   "execution_count": null,
   "id": "4faf3909-d18f-4c17-a6d1-c6b6113cba64",
   "metadata": {},
   "outputs": [],
   "source": [
    "QUESTION 4 ANSWER "
   ]
  },
  {
   "cell_type": "markdown",
   "id": "c18329bd-b370-40b1-9a65-336f369b0661",
   "metadata": {},
   "source": [
    "Data abstraction is the process of hiding the internal details of data and presenting only the essential information to the outside world. In other words, it refers to the separation of the external representation of an object from its internal implementation. In object-oriented programming, this is achieved through encapsulation.\n",
    "\n",
    "Encapsulation is the mechanism of wrapping up data and methods into a single unit, called an object. The object's internal data and methods are hidden from the outside world and can only be accessed through a well-defined interface, typically called methods.\n",
    "\n",
    "To achieve data abstraction in Python, you can use classes and objects. You can define a class to represent the bank account and define its public interface as methods. The internal implementation details can be hidden by making the data attributes private (by prefixing their names with an underscore) and providing methods for accessing and modifying the data."
   ]
  },
  {
   "cell_type": "code",
   "execution_count": null,
   "id": "8992da5c-6e06-4c6e-8e82-a8be5efe1c60",
   "metadata": {},
   "outputs": [],
   "source": [
    "QUESTION 5 ANSWER"
   ]
  },
  {
   "cell_type": "markdown",
   "id": "39930fe9-7994-49b0-bfb5-6bedd3b525a8",
   "metadata": {},
   "source": [
    "No, you cannot create an instance of an abstract class directly. An abstract class is a class that cannot be instantiated on its own and is meant to be subclassed. It serves as a blueprint for other classes, providing them with a common interface and/or a set of common methods that they can inherit and override as needed.\n",
    "\n",
    "In Python, an abstract class is defined using the abc module and the ABC class. To define an abstract class, you need to derive your class from the ABC class and use the @abstractmethod decorator to specify which methods are abstract."
   ]
  }
 ],
 "metadata": {
  "kernelspec": {
   "display_name": "Python 3 (ipykernel)",
   "language": "python",
   "name": "python3"
  },
  "language_info": {
   "codemirror_mode": {
    "name": "ipython",
    "version": 3
   },
   "file_extension": ".py",
   "mimetype": "text/x-python",
   "name": "python",
   "nbconvert_exporter": "python",
   "pygments_lexer": "ipython3",
   "version": "3.10.8"
  }
 },
 "nbformat": 4,
 "nbformat_minor": 5
}
