{
 "cells": [
  {
   "cell_type": "code",
   "execution_count": null,
   "id": "fe95875d-7196-469c-99a0-c3907650da37",
   "metadata": {},
   "outputs": [],
   "source": [
    "Q1 ANSWERS "
   ]
  },
  {
   "cell_type": "code",
   "execution_count": 1,
   "id": "4aa0262f-61be-4516-a406-ae5dc2123ebf",
   "metadata": {},
   "outputs": [
    {
     "name": "stdout",
     "output_type": "stream",
     "text": [
      "[('Sachin Tendulkar', 34357), ('Ricky Ponting', 27483), ('Jack Kallis', 25534), ('Virat Kohli', 24936)]\n"
     ]
    }
   ],
   "source": [
    "def sort_tuple_list(tuple_list):\n",
    "    return sorted(tuple_list, key=lambda x: x[1], reverse=True)\n",
    "\n",
    "tuple_list = [('Sachin Tendulkar', 34357), ('Ricky Ponting', 27483), ('Jack Kallis', 25534), ('Virat Kohli', 24936)]\n",
    "\n",
    "print(sort_tuple_list(tuple_list))\n"
   ]
  },
  {
   "cell_type": "code",
   "execution_count": null,
   "id": "339fccba-71cd-4c28-a2af-bbde325f1521",
   "metadata": {},
   "outputs": [],
   "source": []
  },
  {
   "cell_type": "code",
   "execution_count": null,
   "id": "49c79d68-0cf0-4fa6-af16-cce9a565936b",
   "metadata": {},
   "outputs": [],
   "source": [
    "Q2 ANSWERS "
   ]
  },
  {
   "cell_type": "code",
   "execution_count": 2,
   "id": "d9176cf4-7293-46a6-8947-f518b8b92ac4",
   "metadata": {},
   "outputs": [
    {
     "name": "stdout",
     "output_type": "stream",
     "text": [
      "[1, 4, 9, 16, 25, 36, 49, 64, 81, 100]\n"
     ]
    }
   ],
   "source": [
    "numbers = [1, 2, 3, 4, 5, 6, 7, 8, 9, 10]\n",
    "\n",
    "squared_numbers = list(map(lambda x: x**2, numbers))\n",
    "\n",
    "print(squared_numbers)\n"
   ]
  },
  {
   "cell_type": "code",
   "execution_count": null,
   "id": "be582858-9e78-48db-9599-231bd06b175b",
   "metadata": {},
   "outputs": [],
   "source": []
  },
  {
   "cell_type": "code",
   "execution_count": null,
   "id": "72440d55-eb9b-4a17-ac6d-bf120c3d4d86",
   "metadata": {},
   "outputs": [],
   "source": [
    "Q3 ANSWER"
   ]
  },
  {
   "cell_type": "code",
   "execution_count": 3,
   "id": "9e4e32db-613f-4f93-9fd7-9c7401284a3d",
   "metadata": {},
   "outputs": [
    {
     "name": "stdout",
     "output_type": "stream",
     "text": [
      "('1', '2', '3', '4', '5', '6', '7', '8', '9', '10')\n"
     ]
    }
   ],
   "source": [
    "numbers = [1, 2, 3, 4, 5, 6, 7, 8, 9, 10]\n",
    "\n",
    "string_numbers = tuple(map(lambda x: str(x), numbers))\n",
    "\n",
    "print(string_numbers)\n"
   ]
  },
  {
   "cell_type": "code",
   "execution_count": null,
   "id": "a90d27be-722a-41d4-8b1d-2ca5d8be260b",
   "metadata": {},
   "outputs": [],
   "source": []
  },
  {
   "cell_type": "code",
   "execution_count": null,
   "id": "19efaafc-7531-4abe-bcb9-151765ef3fda",
   "metadata": {},
   "outputs": [],
   "source": [
    "Q4 ANSWER"
   ]
  },
  {
   "cell_type": "code",
   "execution_count": 4,
   "id": "9806e488-df19-4969-bea7-5c6e210a43ae",
   "metadata": {},
   "outputs": [
    {
     "name": "stdout",
     "output_type": "stream",
     "text": [
      "15511210043330985984000000\n"
     ]
    }
   ],
   "source": [
    "from functools import reduce\n",
    "\n",
    "numbers = [x for x in range(1, 26)]\n",
    "\n",
    "product = reduce(lambda x, y: x*y, numbers)\n",
    "\n",
    "print(product)\n"
   ]
  },
  {
   "cell_type": "code",
   "execution_count": null,
   "id": "c1683e40-9aeb-4419-b843-73692c89ee86",
   "metadata": {},
   "outputs": [],
   "source": []
  },
  {
   "cell_type": "code",
   "execution_count": null,
   "id": "7945999d-3e2b-4bb2-bb0a-457a77495d12",
   "metadata": {},
   "outputs": [],
   "source": [
    "Q5 ANSWERS "
   ]
  },
  {
   "cell_type": "code",
   "execution_count": 5,
   "id": "6b9d3897-c5cb-48c3-a243-efe01e295344",
   "metadata": {},
   "outputs": [
    {
     "name": "stdout",
     "output_type": "stream",
     "text": [
      "[6, 60, 90, 120]\n"
     ]
    }
   ],
   "source": [
    "numbers = [2, 3, 6, 9, 27, 60, 90, 120, 55, 46]\n",
    "\n",
    "filtered_numbers = list(filter(lambda x: x % 2 == 0 and x % 3 == 0, numbers))\n",
    "\n",
    "print(filtered_numbers)\n"
   ]
  },
  {
   "cell_type": "code",
   "execution_count": null,
   "id": "119d2824-ff9c-4eb8-a629-97745aa2e4fe",
   "metadata": {},
   "outputs": [],
   "source": []
  },
  {
   "cell_type": "code",
   "execution_count": null,
   "id": "ad2cd7b1-c4bc-41be-8204-b85bc36f8e42",
   "metadata": {},
   "outputs": [],
   "source": [
    "Q6 ANSWERS "
   ]
  },
  {
   "cell_type": "code",
   "execution_count": 6,
   "id": "115d57be-1d0f-4c35-a078-159a1b058850",
   "metadata": {},
   "outputs": [
    {
     "name": "stdout",
     "output_type": "stream",
     "text": [
      "['php', 'aba', 'radar', 'level']\n"
     ]
    }
   ],
   "source": [
    "strings = ['python', 'php', 'aba', 'radar', 'level']\n",
    "\n",
    "palindromes = list(filter(lambda x: x == x[::-1], strings))\n",
    "\n",
    "print(palindromes)\n"
   ]
  },
  {
   "cell_type": "code",
   "execution_count": null,
   "id": "8ca2479a-c8fa-491f-b9f9-35fb656da3d3",
   "metadata": {},
   "outputs": [],
   "source": []
  }
 ],
 "metadata": {
  "kernelspec": {
   "display_name": "Python 3 (ipykernel)",
   "language": "python",
   "name": "python3"
  },
  "language_info": {
   "codemirror_mode": {
    "name": "ipython",
    "version": 3
   },
   "file_extension": ".py",
   "mimetype": "text/x-python",
   "name": "python",
   "nbconvert_exporter": "python",
   "pygments_lexer": "ipython3",
   "version": "3.10.8"
  }
 },
 "nbformat": 4,
 "nbformat_minor": 5
}
